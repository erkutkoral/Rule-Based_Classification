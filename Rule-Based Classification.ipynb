{
 "cells": [
  {
   "cell_type": "markdown",
   "id": "e7f17a58",
   "metadata": {},
   "source": [
    "### Rule-Based Classification"
   ]
  },
  {
   "attachments": {
    "ios-vs-android-users.jpg": {
     "image/jpeg": "[encoded data removed]"
    }
   },
   "cell_type": "markdown",
   "id": "5ea87c73",
   "metadata": {},
   "source": [
    "![ios-vs-android-users.jpg](attachment:ios-vs-android-users.jpg)"
   ]
  },
  {
   "cell_type": "markdown",
   "id": "6e82e2df",
   "metadata": {},
   "source": [
    " - The aim is to create level-based customer definitions by using some features in the history of a game company and to create segments according to these new customer definitions and to estimate how much new development information can be brought to the company on acerage according to these segments."
   ]
  },
  {
   "cell_type": "code",
   "execution_count": 1,
   "id": "35a9337c",
   "metadata": {},
   "outputs": [],
   "source": [
    "import pandas as pd"
   ]
  },
  {
   "cell_type": "code",
   "execution_count": 3,
   "id": "d2febb71",
   "metadata": {},
   "outputs": [],
   "source": [
    "df = pd.read_csv(\"persona.csv\")"
   ]
  },
  {
   "cell_type": "code",
   "execution_count": 4,
   "id": "ee2015d3",
   "metadata": {},
   "outputs": [
    {
     "data": {
      "text/html": [
       "<div>\n",
       "<style scoped>\n",
       "    .dataframe tbody tr th:only-of-type {\n",
       "        vertical-align: middle;\n",
       "    }\n",
       "\n",
       "    .dataframe tbody tr th {\n",
       "        vertical-align: top;\n",
       "    }\n",
       "\n",
       "    .dataframe thead th {\n",
       "        text-align: right;\n",
       "    }\n",
       "</style>\n",
       "<table border=\"1\" class=\"dataframe\">\n",
       "  <thead>\n",
       "    <tr style=\"text-align: right;\">\n",
       "      <th></th>\n",
       "      <th>PRICE</th>\n",
       "      <th>SOURCE</th>\n",
       "      <th>SEX</th>\n",
       "      <th>COUNTRY</th>\n",
       "      <th>AGE</th>\n",
       "    </tr>\n",
       "  </thead>\n",
       "  <tbody>\n",
       "    <tr>\n",
       "      <th>0</th>\n",
       "      <td>39</td>\n",
       "      <td>android</td>\n",
       "      <td>male</td>\n",
       "      <td>bra</td>\n",
       "      <td>17</td>\n",
       "    </tr>\n",
       "    <tr>\n",
       "      <th>1</th>\n",
       "      <td>39</td>\n",
       "      <td>android</td>\n",
       "      <td>male</td>\n",
       "      <td>bra</td>\n",
       "      <td>17</td>\n",
       "    </tr>\n",
       "    <tr>\n",
       "      <th>2</th>\n",
       "      <td>49</td>\n",
       "      <td>android</td>\n",
       "      <td>male</td>\n",
       "      <td>bra</td>\n",
       "      <td>17</td>\n",
       "    </tr>\n",
       "    <tr>\n",
       "      <th>3</th>\n",
       "      <td>29</td>\n",
       "      <td>android</td>\n",
       "      <td>male</td>\n",
       "      <td>tur</td>\n",
       "      <td>17</td>\n",
       "    </tr>\n",
       "    <tr>\n",
       "      <th>4</th>\n",
       "      <td>49</td>\n",
       "      <td>android</td>\n",
       "      <td>male</td>\n",
       "      <td>tur</td>\n",
       "      <td>17</td>\n",
       "    </tr>\n",
       "  </tbody>\n",
       "</table>\n",
       "</div>"
      ],
      "text/plain": [
       "   PRICE   SOURCE   SEX COUNTRY  AGE\n",
       "0     39  android  male     bra   17\n",
       "1     39  android  male     bra   17\n",
       "2     49  android  male     bra   17\n",
       "3     29  android  male     tur   17\n",
       "4     49  android  male     tur   17"
      ]
     },
     "execution_count": 4,
     "metadata": {},
     "output_type": "execute_result"
    }
   ],
   "source": [
    "df.head()"
   ]
  },
  {
   "cell_type": "markdown",
   "id": "e892f41c",
   "metadata": {},
   "source": [
    "- Both head and tail parts of dataset is printed properly."
   ]
  },
  {
   "cell_type": "code",
   "execution_count": 6,
   "id": "6fb7520d",
   "metadata": {},
   "outputs": [
    {
     "data": {
      "text/html": [
       "<div>\n",
       "<style scoped>\n",
       "    .dataframe tbody tr th:only-of-type {\n",
       "        vertical-align: middle;\n",
       "    }\n",
       "\n",
       "    .dataframe tbody tr th {\n",
       "        vertical-align: top;\n",
       "    }\n",
       "\n",
       "    .dataframe thead th {\n",
       "        text-align: right;\n",
       "    }\n",
       "</style>\n",
       "<table border=\"1\" class=\"dataframe\">\n",
       "  <thead>\n",
       "    <tr style=\"text-align: right;\">\n",
       "      <th></th>\n",
       "      <th>PRICE</th>\n",
       "      <th>SOURCE</th>\n",
       "      <th>SEX</th>\n",
       "      <th>COUNTRY</th>\n",
       "      <th>AGE</th>\n",
       "    </tr>\n",
       "  </thead>\n",
       "  <tbody>\n",
       "    <tr>\n",
       "      <th>4995</th>\n",
       "      <td>29</td>\n",
       "      <td>android</td>\n",
       "      <td>female</td>\n",
       "      <td>bra</td>\n",
       "      <td>31</td>\n",
       "    </tr>\n",
       "    <tr>\n",
       "      <th>4996</th>\n",
       "      <td>29</td>\n",
       "      <td>android</td>\n",
       "      <td>female</td>\n",
       "      <td>bra</td>\n",
       "      <td>31</td>\n",
       "    </tr>\n",
       "    <tr>\n",
       "      <th>4997</th>\n",
       "      <td>29</td>\n",
       "      <td>android</td>\n",
       "      <td>female</td>\n",
       "      <td>bra</td>\n",
       "      <td>31</td>\n",
       "    </tr>\n",
       "    <tr>\n",
       "      <th>4998</th>\n",
       "      <td>39</td>\n",
       "      <td>android</td>\n",
       "      <td>female</td>\n",
       "      <td>bra</td>\n",
       "      <td>31</td>\n",
       "    </tr>\n",
       "    <tr>\n",
       "      <th>4999</th>\n",
       "      <td>29</td>\n",
       "      <td>android</td>\n",
       "      <td>female</td>\n",
       "      <td>bra</td>\n",
       "      <td>31</td>\n",
       "    </tr>\n",
       "  </tbody>\n",
       "</table>\n",
       "</div>"
      ],
      "text/plain": [
       "      PRICE   SOURCE     SEX COUNTRY  AGE\n",
       "4995     29  android  female     bra   31\n",
       "4996     29  android  female     bra   31\n",
       "4997     29  android  female     bra   31\n",
       "4998     39  android  female     bra   31\n",
       "4999     29  android  female     bra   31"
      ]
     },
     "execution_count": 6,
     "metadata": {},
     "output_type": "execute_result"
    }
   ],
   "source": [
    "df.tail()"
   ]
  },
  {
   "cell_type": "markdown",
   "id": "bdfae66e",
   "metadata": {},
   "source": [
    "- There are no missing values in dataset.\n",
    "- All features are corrected data types."
   ]
  },
  {
   "cell_type": "code",
   "execution_count": 5,
   "id": "9a7c6a06",
   "metadata": {},
   "outputs": [
    {
     "name": "stdout",
     "output_type": "stream",
     "text": [
      "<class 'pandas.core.frame.DataFrame'>\n",
      "Index: 5000 entries, 0 to 4999\n",
      "Data columns (total 5 columns):\n",
      " #   Column   Non-Null Count  Dtype \n",
      "---  ------   --------------  ----- \n",
      " 0   PRICE    5000 non-null   int64 \n",
      " 1   SOURCE   5000 non-null   object\n",
      " 2   SEX      5000 non-null   object\n",
      " 3   COUNTRY  5000 non-null   object\n",
      " 4   AGE      5000 non-null   int64 \n",
      "dtypes: int64(2), object(3)\n",
      "memory usage: 234.4+ KB\n"
     ]
    }
   ],
   "source": [
    "df.info()"
   ]
  },
  {
   "cell_type": "markdown",
   "id": "3ab7b2f7",
   "metadata": {},
   "source": [
    "- In describe we can see only numeric values' statistics informations."
   ]
  },
  {
   "cell_type": "code",
   "execution_count": 8,
   "id": "9d1c5ee2",
   "metadata": {},
   "outputs": [
    {
     "data": {
      "text/html": [
       "<div>\n",
       "<style scoped>\n",
       "    .dataframe tbody tr th:only-of-type {\n",
       "        vertical-align: middle;\n",
       "    }\n",
       "\n",
       "    .dataframe tbody tr th {\n",
       "        vertical-align: top;\n",
       "    }\n",
       "\n",
       "    .dataframe thead th {\n",
       "        text-align: right;\n",
       "    }\n",
       "</style>\n",
       "<table border=\"1\" class=\"dataframe\">\n",
       "  <thead>\n",
       "    <tr style=\"text-align: right;\">\n",
       "      <th></th>\n",
       "      <th>count</th>\n",
       "      <th>mean</th>\n",
       "      <th>std</th>\n",
       "      <th>min</th>\n",
       "      <th>25%</th>\n",
       "      <th>50%</th>\n",
       "      <th>75%</th>\n",
       "      <th>max</th>\n",
       "    </tr>\n",
       "  </thead>\n",
       "  <tbody>\n",
       "    <tr>\n",
       "      <th>PRICE</th>\n",
       "      <td>5000.0</td>\n",
       "      <td>34.1320</td>\n",
       "      <td>12.464897</td>\n",
       "      <td>9.0</td>\n",
       "      <td>29.0</td>\n",
       "      <td>39.0</td>\n",
       "      <td>39.0</td>\n",
       "      <td>59.0</td>\n",
       "    </tr>\n",
       "    <tr>\n",
       "      <th>AGE</th>\n",
       "      <td>5000.0</td>\n",
       "      <td>23.5814</td>\n",
       "      <td>8.995908</td>\n",
       "      <td>15.0</td>\n",
       "      <td>17.0</td>\n",
       "      <td>21.0</td>\n",
       "      <td>27.0</td>\n",
       "      <td>66.0</td>\n",
       "    </tr>\n",
       "  </tbody>\n",
       "</table>\n",
       "</div>"
      ],
      "text/plain": [
       "        count     mean        std   min   25%   50%   75%   max\n",
       "PRICE  5000.0  34.1320  12.464897   9.0  29.0  39.0  39.0  59.0\n",
       "AGE    5000.0  23.5814   8.995908  15.0  17.0  21.0  27.0  66.0"
      ]
     },
     "execution_count": 8,
     "metadata": {},
     "output_type": "execute_result"
    }
   ],
   "source": [
    "df.describe().T"
   ]
  },
  {
   "cell_type": "markdown",
   "id": "0c92e6d4",
   "metadata": {},
   "source": [
    "1. How many unique \"Source\"s are there? What are their frequencies?"
   ]
  },
  {
   "cell_type": "code",
   "execution_count": 10,
   "id": "f3af9a09",
   "metadata": {},
   "outputs": [
    {
     "data": {
      "text/plain": [
       "array(['android', 'ios'], dtype=object)"
      ]
     },
     "execution_count": 10,
     "metadata": {},
     "output_type": "execute_result"
    }
   ],
   "source": [
    "df[\"SOURCE\"].unique()"
   ]
  },
  {
   "cell_type": "code",
   "execution_count": 11,
   "id": "f8392469",
   "metadata": {},
   "outputs": [
    {
     "data": {
      "text/plain": [
       "SOURCE\n",
       "android    2974\n",
       "ios        2026\n",
       "Name: count, dtype: int64"
      ]
     },
     "execution_count": 11,
     "metadata": {},
     "output_type": "execute_result"
    }
   ],
   "source": [
    "df[\"SOURCE\"].value_counts()"
   ]
  },
  {
   "cell_type": "markdown",
   "id": "3c592a81",
   "metadata": {},
   "source": [
    "2. How many unique \"Price\"s are there?"
   ]
  },
  {
   "cell_type": "code",
   "execution_count": 12,
   "id": "c253f560",
   "metadata": {},
   "outputs": [
    {
     "data": {
      "text/plain": [
       "6"
      ]
     },
     "execution_count": 12,
     "metadata": {},
     "output_type": "execute_result"
    }
   ],
   "source": [
    "df.PRICE.nunique()"
   ]
  },
  {
   "cell_type": "markdown",
   "id": "bacbb472",
   "metadata": {},
   "source": [
    "### There are 6 different package options for this company."
   ]
  },
  {
   "cell_type": "code",
   "execution_count": 15,
   "id": "f166ae1e",
   "metadata": {},
   "outputs": [
    {
     "data": {
      "text/plain": [
       "array([39, 49, 29, 19, 59,  9], dtype=int64)"
      ]
     },
     "execution_count": 15,
     "metadata": {},
     "output_type": "execute_result"
    }
   ],
   "source": [
    "df.PRICE.unique()"
   ]
  },
  {
   "cell_type": "markdown",
   "id": "732cde16",
   "metadata": {},
   "source": [
    "**3. How many sales were made from which PRICE?**"
   ]
  },
  {
   "cell_type": "code",
   "execution_count": 16,
   "id": "b9e8a52f",
   "metadata": {},
   "outputs": [
    {
     "data": {
      "text/plain": [
       "PRICE\n",
       "29    1305\n",
       "39    1260\n",
       "49    1031\n",
       "19     992\n",
       "59     212\n",
       "9      200\n",
       "Name: count, dtype: int64"
      ]
     },
     "execution_count": 16,
     "metadata": {},
     "output_type": "execute_result"
    }
   ],
   "source": [
    "df[\"PRICE\"].value_counts()"
   ]
  },
  {
   "cell_type": "markdown",
   "id": "cd518fae",
   "metadata": {},
   "source": [
    "## We can see that, lowest priced option sold more from the highest priced option."
   ]
  },
  {
   "cell_type": "markdown",
   "id": "ab474504",
   "metadata": {},
   "source": [
    "**4. How many sales were made from which country?**"
   ]
  },
  {
   "cell_type": "code",
   "execution_count": 18,
   "id": "0cccb649",
   "metadata": {},
   "outputs": [
    {
     "data": {
      "text/plain": [
       "COUNTRY\n",
       "usa    2065\n",
       "bra    1496\n",
       "deu     455\n",
       "tur     451\n",
       "fra     303\n",
       "can     230\n",
       "Name: count, dtype: int64"
      ]
     },
     "execution_count": 18,
     "metadata": {},
     "output_type": "execute_result"
    }
   ],
   "source": [
    "df[\"COUNTRY\"].value_counts()"
   ]
  },
  {
   "cell_type": "markdown",
   "id": "64d19599",
   "metadata": {},
   "source": [
    "**5. How much was earned from sales in total by country?**"
   ]
  },
  {
   "cell_type": "code",
   "execution_count": 19,
   "id": "1eb4bd26",
   "metadata": {},
   "outputs": [
    {
     "data": {
      "text/html": [
       "<div>\n",
       "<style scoped>\n",
       "    .dataframe tbody tr th:only-of-type {\n",
       "        vertical-align: middle;\n",
       "    }\n",
       "\n",
       "    .dataframe tbody tr th {\n",
       "        vertical-align: top;\n",
       "    }\n",
       "\n",
       "    .dataframe thead th {\n",
       "        text-align: right;\n",
       "    }\n",
       "</style>\n",
       "<table border=\"1\" class=\"dataframe\">\n",
       "  <thead>\n",
       "    <tr style=\"text-align: right;\">\n",
       "      <th></th>\n",
       "      <th>PRICE</th>\n",
       "    </tr>\n",
       "    <tr>\n",
       "      <th>COUNTRY</th>\n",
       "      <th></th>\n",
       "    </tr>\n",
       "  </thead>\n",
       "  <tbody>\n",
       "    <tr>\n",
       "      <th>bra</th>\n",
       "      <td>51354</td>\n",
       "    </tr>\n",
       "    <tr>\n",
       "      <th>can</th>\n",
       "      <td>7730</td>\n",
       "    </tr>\n",
       "    <tr>\n",
       "      <th>deu</th>\n",
       "      <td>15485</td>\n",
       "    </tr>\n",
       "    <tr>\n",
       "      <th>fra</th>\n",
       "      <td>10177</td>\n",
       "    </tr>\n",
       "    <tr>\n",
       "      <th>tur</th>\n",
       "      <td>15689</td>\n",
       "    </tr>\n",
       "    <tr>\n",
       "      <th>usa</th>\n",
       "      <td>70225</td>\n",
       "    </tr>\n",
       "  </tbody>\n",
       "</table>\n",
       "</div>"
      ],
      "text/plain": [
       "         PRICE\n",
       "COUNTRY       \n",
       "bra      51354\n",
       "can       7730\n",
       "deu      15485\n",
       "fra      10177\n",
       "tur      15689\n",
       "usa      70225"
      ]
     },
     "execution_count": 19,
     "metadata": {},
     "output_type": "execute_result"
    }
   ],
   "source": [
    "df.groupby(\"COUNTRY\").agg({\"PRICE\":\"sum\"})"
   ]
  },
  {
   "cell_type": "code",
   "execution_count": 20,
   "id": "afe186dc",
   "metadata": {},
   "outputs": [
    {
     "data": {
      "text/plain": [
       "COUNTRY\n",
       "bra    51354\n",
       "can     7730\n",
       "deu    15485\n",
       "fra    10177\n",
       "tur    15689\n",
       "usa    70225\n",
       "Name: PRICE, dtype: int64"
      ]
     },
     "execution_count": 20,
     "metadata": {},
     "output_type": "execute_result"
    }
   ],
   "source": [
    "df.groupby(\"COUNTRY\")[\"PRICE\"].sum()"
   ]
  },
  {
   "cell_type": "markdown",
   "id": "5dd686b1",
   "metadata": {},
   "source": [
    "**6. What are the sales number by Source types?**"
   ]
  },
  {
   "cell_type": "code",
   "execution_count": 21,
   "id": "817b4226",
   "metadata": {},
   "outputs": [
    {
     "data": {
      "text/plain": [
       "SOURCE\n",
       "android    2974\n",
       "ios        2026\n",
       "Name: count, dtype: int64"
      ]
     },
     "execution_count": 21,
     "metadata": {},
     "output_type": "execute_result"
    }
   ],
   "source": [
    "df[\"SOURCE\"].value_counts()"
   ]
  },
  {
   "cell_type": "markdown",
   "id": "e4d7126a",
   "metadata": {},
   "source": [
    "**7. What are the Price averages by country?**"
   ]
  },
  {
   "cell_type": "code",
   "execution_count": 22,
   "id": "b27cf29c",
   "metadata": {},
   "outputs": [
    {
     "data": {
      "text/html": [
       "<div>\n",
       "<style scoped>\n",
       "    .dataframe tbody tr th:only-of-type {\n",
       "        vertical-align: middle;\n",
       "    }\n",
       "\n",
       "    .dataframe tbody tr th {\n",
       "        vertical-align: top;\n",
       "    }\n",
       "\n",
       "    .dataframe thead th {\n",
       "        text-align: right;\n",
       "    }\n",
       "</style>\n",
       "<table border=\"1\" class=\"dataframe\">\n",
       "  <thead>\n",
       "    <tr style=\"text-align: right;\">\n",
       "      <th></th>\n",
       "      <th>PRICE</th>\n",
       "    </tr>\n",
       "    <tr>\n",
       "      <th>COUNTRY</th>\n",
       "      <th></th>\n",
       "    </tr>\n",
       "  </thead>\n",
       "  <tbody>\n",
       "    <tr>\n",
       "      <th>bra</th>\n",
       "      <td>34.327540</td>\n",
       "    </tr>\n",
       "    <tr>\n",
       "      <th>can</th>\n",
       "      <td>33.608696</td>\n",
       "    </tr>\n",
       "    <tr>\n",
       "      <th>deu</th>\n",
       "      <td>34.032967</td>\n",
       "    </tr>\n",
       "    <tr>\n",
       "      <th>fra</th>\n",
       "      <td>33.587459</td>\n",
       "    </tr>\n",
       "    <tr>\n",
       "      <th>tur</th>\n",
       "      <td>34.787140</td>\n",
       "    </tr>\n",
       "    <tr>\n",
       "      <th>usa</th>\n",
       "      <td>34.007264</td>\n",
       "    </tr>\n",
       "  </tbody>\n",
       "</table>\n",
       "</div>"
      ],
      "text/plain": [
       "             PRICE\n",
       "COUNTRY           \n",
       "bra      34.327540\n",
       "can      33.608696\n",
       "deu      34.032967\n",
       "fra      33.587459\n",
       "tur      34.787140\n",
       "usa      34.007264"
      ]
     },
     "execution_count": 22,
     "metadata": {},
     "output_type": "execute_result"
    }
   ],
   "source": [
    "df.groupby(\"COUNTRY\").agg({\"PRICE\":\"mean\"})"
   ]
  },
  {
   "cell_type": "markdown",
   "id": "e1143a50",
   "metadata": {},
   "source": [
    "**8. What are the averages of money spent according to sources?**"
   ]
  },
  {
   "cell_type": "code",
   "execution_count": 23,
   "id": "3c4659cb",
   "metadata": {},
   "outputs": [
    {
     "data": {
      "text/html": [
       "<div>\n",
       "<style scoped>\n",
       "    .dataframe tbody tr th:only-of-type {\n",
       "        vertical-align: middle;\n",
       "    }\n",
       "\n",
       "    .dataframe tbody tr th {\n",
       "        vertical-align: top;\n",
       "    }\n",
       "\n",
       "    .dataframe thead th {\n",
       "        text-align: right;\n",
       "    }\n",
       "</style>\n",
       "<table border=\"1\" class=\"dataframe\">\n",
       "  <thead>\n",
       "    <tr style=\"text-align: right;\">\n",
       "      <th></th>\n",
       "      <th>PRICE</th>\n",
       "    </tr>\n",
       "    <tr>\n",
       "      <th>SOURCE</th>\n",
       "      <th></th>\n",
       "    </tr>\n",
       "  </thead>\n",
       "  <tbody>\n",
       "    <tr>\n",
       "      <th>android</th>\n",
       "      <td>34.174849</td>\n",
       "    </tr>\n",
       "    <tr>\n",
       "      <th>ios</th>\n",
       "      <td>34.069102</td>\n",
       "    </tr>\n",
       "  </tbody>\n",
       "</table>\n",
       "</div>"
      ],
      "text/plain": [
       "             PRICE\n",
       "SOURCE            \n",
       "android  34.174849\n",
       "ios      34.069102"
      ]
     },
     "execution_count": 23,
     "metadata": {},
     "output_type": "execute_result"
    }
   ],
   "source": [
    "df.groupby(\"SOURCE\").agg({\"PRICE\":\"mean\"})"
   ]
  },
  {
   "cell_type": "markdown",
   "id": "4e370dc6",
   "metadata": {},
   "source": [
    "### It seems like all sources are pricing same in the average level.\n",
    "- It might be little bit tricky. \n",
    "- We can check in country level to see behind the scenes."
   ]
  },
  {
   "cell_type": "code",
   "execution_count": 24,
   "id": "8f460135",
   "metadata": {},
   "outputs": [
    {
     "data": {
      "text/html": [
       "<div>\n",
       "<style scoped>\n",
       "    .dataframe tbody tr th:only-of-type {\n",
       "        vertical-align: middle;\n",
       "    }\n",
       "\n",
       "    .dataframe tbody tr th {\n",
       "        vertical-align: top;\n",
       "    }\n",
       "\n",
       "    .dataframe thead th {\n",
       "        text-align: right;\n",
       "    }\n",
       "</style>\n",
       "<table border=\"1\" class=\"dataframe\">\n",
       "  <thead>\n",
       "    <tr style=\"text-align: right;\">\n",
       "      <th></th>\n",
       "      <th></th>\n",
       "      <th>PRICE</th>\n",
       "    </tr>\n",
       "    <tr>\n",
       "      <th>COUNTRY</th>\n",
       "      <th>SOURCE</th>\n",
       "      <th></th>\n",
       "    </tr>\n",
       "  </thead>\n",
       "  <tbody>\n",
       "    <tr>\n",
       "      <th rowspan=\"2\" valign=\"top\">bra</th>\n",
       "      <th>android</th>\n",
       "      <td>34.387029</td>\n",
       "    </tr>\n",
       "    <tr>\n",
       "      <th>ios</th>\n",
       "      <td>34.222222</td>\n",
       "    </tr>\n",
       "    <tr>\n",
       "      <th rowspan=\"2\" valign=\"top\">can</th>\n",
       "      <th>android</th>\n",
       "      <td>33.330709</td>\n",
       "    </tr>\n",
       "    <tr>\n",
       "      <th>ios</th>\n",
       "      <td>33.951456</td>\n",
       "    </tr>\n",
       "    <tr>\n",
       "      <th rowspan=\"2\" valign=\"top\">deu</th>\n",
       "      <th>android</th>\n",
       "      <td>33.869888</td>\n",
       "    </tr>\n",
       "    <tr>\n",
       "      <th>ios</th>\n",
       "      <td>34.268817</td>\n",
       "    </tr>\n",
       "    <tr>\n",
       "      <th rowspan=\"2\" valign=\"top\">fra</th>\n",
       "      <th>android</th>\n",
       "      <td>34.312500</td>\n",
       "    </tr>\n",
       "    <tr>\n",
       "      <th>ios</th>\n",
       "      <td>32.776224</td>\n",
       "    </tr>\n",
       "    <tr>\n",
       "      <th rowspan=\"2\" valign=\"top\">tur</th>\n",
       "      <th>android</th>\n",
       "      <td>36.229437</td>\n",
       "    </tr>\n",
       "    <tr>\n",
       "      <th>ios</th>\n",
       "      <td>33.272727</td>\n",
       "    </tr>\n",
       "    <tr>\n",
       "      <th rowspan=\"2\" valign=\"top\">usa</th>\n",
       "      <th>android</th>\n",
       "      <td>33.760357</td>\n",
       "    </tr>\n",
       "    <tr>\n",
       "      <th>ios</th>\n",
       "      <td>34.371703</td>\n",
       "    </tr>\n",
       "  </tbody>\n",
       "</table>\n",
       "</div>"
      ],
      "text/plain": [
       "                     PRICE\n",
       "COUNTRY SOURCE            \n",
       "bra     android  34.387029\n",
       "        ios      34.222222\n",
       "can     android  33.330709\n",
       "        ios      33.951456\n",
       "deu     android  33.869888\n",
       "        ios      34.268817\n",
       "fra     android  34.312500\n",
       "        ios      32.776224\n",
       "tur     android  36.229437\n",
       "        ios      33.272727\n",
       "usa     android  33.760357\n",
       "        ios      34.371703"
      ]
     },
     "execution_count": 24,
     "metadata": {},
     "output_type": "execute_result"
    }
   ],
   "source": [
    "df.groupby([\"COUNTRY\",\"SOURCE\"]).agg({\"PRICE\":\"mean\"})"
   ]
  },
  {
   "cell_type": "markdown",
   "id": "6b336001",
   "metadata": {},
   "source": [
    "**Fraction is not so different in country part.**"
   ]
  },
  {
   "cell_type": "markdown",
   "id": "fece003a",
   "metadata": {},
   "source": [
    "**9. What are the PRICE averages in the COUNTRY-SOURCE breakdown?**"
   ]
  },
  {
   "cell_type": "code",
   "execution_count": 25,
   "id": "625425d2",
   "metadata": {},
   "outputs": [
    {
     "data": {
      "text/html": [
       "<div>\n",
       "<style scoped>\n",
       "    .dataframe tbody tr th:only-of-type {\n",
       "        vertical-align: middle;\n",
       "    }\n",
       "\n",
       "    .dataframe tbody tr th {\n",
       "        vertical-align: top;\n",
       "    }\n",
       "\n",
       "    .dataframe thead th {\n",
       "        text-align: right;\n",
       "    }\n",
       "</style>\n",
       "<table border=\"1\" class=\"dataframe\">\n",
       "  <thead>\n",
       "    <tr style=\"text-align: right;\">\n",
       "      <th></th>\n",
       "      <th></th>\n",
       "      <th></th>\n",
       "      <th></th>\n",
       "      <th>PRICE</th>\n",
       "    </tr>\n",
       "    <tr>\n",
       "      <th>COUNTRY</th>\n",
       "      <th>SOURCE</th>\n",
       "      <th>SEX</th>\n",
       "      <th>AGE</th>\n",
       "      <th></th>\n",
       "    </tr>\n",
       "  </thead>\n",
       "  <tbody>\n",
       "    <tr>\n",
       "      <th rowspan=\"5\" valign=\"top\">bra</th>\n",
       "      <th rowspan=\"5\" valign=\"top\">android</th>\n",
       "      <th rowspan=\"5\" valign=\"top\">female</th>\n",
       "      <th>15</th>\n",
       "      <td>38.714286</td>\n",
       "    </tr>\n",
       "    <tr>\n",
       "      <th>16</th>\n",
       "      <td>35.944444</td>\n",
       "    </tr>\n",
       "    <tr>\n",
       "      <th>17</th>\n",
       "      <td>35.666667</td>\n",
       "    </tr>\n",
       "    <tr>\n",
       "      <th>18</th>\n",
       "      <td>32.255814</td>\n",
       "    </tr>\n",
       "    <tr>\n",
       "      <th>19</th>\n",
       "      <td>35.206897</td>\n",
       "    </tr>\n",
       "    <tr>\n",
       "      <th>...</th>\n",
       "      <th>...</th>\n",
       "      <th>...</th>\n",
       "      <th>...</th>\n",
       "      <td>...</td>\n",
       "    </tr>\n",
       "    <tr>\n",
       "      <th rowspan=\"5\" valign=\"top\">usa</th>\n",
       "      <th rowspan=\"5\" valign=\"top\">ios</th>\n",
       "      <th rowspan=\"5\" valign=\"top\">male</th>\n",
       "      <th>42</th>\n",
       "      <td>30.250000</td>\n",
       "    </tr>\n",
       "    <tr>\n",
       "      <th>50</th>\n",
       "      <td>39.000000</td>\n",
       "    </tr>\n",
       "    <tr>\n",
       "      <th>53</th>\n",
       "      <td>34.000000</td>\n",
       "    </tr>\n",
       "    <tr>\n",
       "      <th>55</th>\n",
       "      <td>29.000000</td>\n",
       "    </tr>\n",
       "    <tr>\n",
       "      <th>59</th>\n",
       "      <td>46.500000</td>\n",
       "    </tr>\n",
       "  </tbody>\n",
       "</table>\n",
       "<p>348 rows × 1 columns</p>\n",
       "</div>"
      ],
      "text/plain": [
       "                                PRICE\n",
       "COUNTRY SOURCE  SEX    AGE           \n",
       "bra     android female 15   38.714286\n",
       "                       16   35.944444\n",
       "                       17   35.666667\n",
       "                       18   32.255814\n",
       "                       19   35.206897\n",
       "...                               ...\n",
       "usa     ios     male   42   30.250000\n",
       "                       50   39.000000\n",
       "                       53   34.000000\n",
       "                       55   29.000000\n",
       "                       59   46.500000\n",
       "\n",
       "[348 rows x 1 columns]"
      ]
     },
     "execution_count": 25,
     "metadata": {},
     "output_type": "execute_result"
    }
   ],
   "source": [
    "df.groupby([\"COUNTRY\",\"SOURCE\",\"SEX\", \"AGE\"]).agg({\"PRICE\":\"mean\"})"
   ]
  },
  {
   "cell_type": "markdown",
   "id": "145913b6",
   "metadata": {},
   "source": [
    "**It migt not be shown us clear view but now we have all PRICE aggregation for feature based.**"
   ]
  },
  {
   "cell_type": "code",
   "execution_count": 26,
   "id": "5edddeea",
   "metadata": {},
   "outputs": [],
   "source": [
    "agg_df = df.groupby([\"COUNTRY\",\"SOURCE\",\"SEX\", \"AGE\"]).agg({\"PRICE\":\"mean\"})"
   ]
  },
  {
   "cell_type": "markdown",
   "id": "1a57c12e",
   "metadata": {},
   "source": [
    "## For better understanding, we can sort this aggregation for Price level."
   ]
  },
  {
   "cell_type": "code",
   "execution_count": 27,
   "id": "3ae0859c",
   "metadata": {},
   "outputs": [
    {
     "data": {
      "text/html": [
       "<div>\n",
       "<style scoped>\n",
       "    .dataframe tbody tr th:only-of-type {\n",
       "        vertical-align: middle;\n",
       "    }\n",
       "\n",
       "    .dataframe tbody tr th {\n",
       "        vertical-align: top;\n",
       "    }\n",
       "\n",
       "    .dataframe thead th {\n",
       "        text-align: right;\n",
       "    }\n",
       "</style>\n",
       "<table border=\"1\" class=\"dataframe\">\n",
       "  <thead>\n",
       "    <tr style=\"text-align: right;\">\n",
       "      <th></th>\n",
       "      <th></th>\n",
       "      <th></th>\n",
       "      <th></th>\n",
       "      <th>PRICE</th>\n",
       "    </tr>\n",
       "    <tr>\n",
       "      <th>COUNTRY</th>\n",
       "      <th>SOURCE</th>\n",
       "      <th>SEX</th>\n",
       "      <th>AGE</th>\n",
       "      <th></th>\n",
       "    </tr>\n",
       "  </thead>\n",
       "  <tbody>\n",
       "    <tr>\n",
       "      <th>bra</th>\n",
       "      <th>android</th>\n",
       "      <th>male</th>\n",
       "      <th>46</th>\n",
       "      <td>59.0</td>\n",
       "    </tr>\n",
       "    <tr>\n",
       "      <th>usa</th>\n",
       "      <th>android</th>\n",
       "      <th>male</th>\n",
       "      <th>36</th>\n",
       "      <td>59.0</td>\n",
       "    </tr>\n",
       "    <tr>\n",
       "      <th>fra</th>\n",
       "      <th>android</th>\n",
       "      <th>female</th>\n",
       "      <th>24</th>\n",
       "      <td>59.0</td>\n",
       "    </tr>\n",
       "    <tr>\n",
       "      <th>usa</th>\n",
       "      <th>ios</th>\n",
       "      <th>male</th>\n",
       "      <th>32</th>\n",
       "      <td>54.0</td>\n",
       "    </tr>\n",
       "    <tr>\n",
       "      <th>deu</th>\n",
       "      <th>android</th>\n",
       "      <th>female</th>\n",
       "      <th>36</th>\n",
       "      <td>49.0</td>\n",
       "    </tr>\n",
       "    <tr>\n",
       "      <th>...</th>\n",
       "      <th>...</th>\n",
       "      <th>...</th>\n",
       "      <th>...</th>\n",
       "      <td>...</td>\n",
       "    </tr>\n",
       "    <tr>\n",
       "      <th rowspan=\"2\" valign=\"top\">usa</th>\n",
       "      <th rowspan=\"2\" valign=\"top\">ios</th>\n",
       "      <th rowspan=\"2\" valign=\"top\">female</th>\n",
       "      <th>38</th>\n",
       "      <td>19.0</td>\n",
       "    </tr>\n",
       "    <tr>\n",
       "      <th>30</th>\n",
       "      <td>19.0</td>\n",
       "    </tr>\n",
       "    <tr>\n",
       "      <th>can</th>\n",
       "      <th>android</th>\n",
       "      <th>female</th>\n",
       "      <th>27</th>\n",
       "      <td>19.0</td>\n",
       "    </tr>\n",
       "    <tr>\n",
       "      <th>fra</th>\n",
       "      <th>android</th>\n",
       "      <th>male</th>\n",
       "      <th>18</th>\n",
       "      <td>19.0</td>\n",
       "    </tr>\n",
       "    <tr>\n",
       "      <th>deu</th>\n",
       "      <th>android</th>\n",
       "      <th>male</th>\n",
       "      <th>26</th>\n",
       "      <td>9.0</td>\n",
       "    </tr>\n",
       "  </tbody>\n",
       "</table>\n",
       "<p>348 rows × 1 columns</p>\n",
       "</div>"
      ],
      "text/plain": [
       "                            PRICE\n",
       "COUNTRY SOURCE  SEX    AGE       \n",
       "bra     android male   46    59.0\n",
       "usa     android male   36    59.0\n",
       "fra     android female 24    59.0\n",
       "usa     ios     male   32    54.0\n",
       "deu     android female 36    49.0\n",
       "...                           ...\n",
       "usa     ios     female 38    19.0\n",
       "                       30    19.0\n",
       "can     android female 27    19.0\n",
       "fra     android male   18    19.0\n",
       "deu     android male   26     9.0\n",
       "\n",
       "[348 rows x 1 columns]"
      ]
     },
     "execution_count": 27,
     "metadata": {},
     "output_type": "execute_result"
    }
   ],
   "source": [
    "agg_df.sort_values(\"PRICE\", ascending = False)"
   ]
  },
  {
   "cell_type": "code",
   "execution_count": 28,
   "id": "0bbc081c",
   "metadata": {},
   "outputs": [
    {
     "data": {
      "text/plain": [
       "1"
      ]
     },
     "execution_count": 28,
     "metadata": {},
     "output_type": "execute_result"
    }
   ],
   "source": [
    "len(agg_df.columns)"
   ]
  },
  {
   "cell_type": "markdown",
   "id": "e2688b5d",
   "metadata": {},
   "source": [
    "- We have one columns because we groupped the df. \n",
    "- If we want to turn back the with this grouped version to 5 feature df format again we should reset the indexes."
   ]
  },
  {
   "cell_type": "code",
   "execution_count": 29,
   "id": "e172eb41",
   "metadata": {},
   "outputs": [],
   "source": [
    "agg_df = agg_df.reset_index()"
   ]
  },
  {
   "cell_type": "code",
   "execution_count": 30,
   "id": "82a6def1",
   "metadata": {
    "scrolled": true
   },
   "outputs": [
    {
     "data": {
      "text/plain": [
       "Index(['COUNTRY', 'SOURCE', 'SEX', 'AGE', 'PRICE'], dtype='object')"
      ]
     },
     "execution_count": 30,
     "metadata": {},
     "output_type": "execute_result"
    }
   ],
   "source": [
    "agg_df.columns"
   ]
  },
  {
   "cell_type": "code",
   "execution_count": 31,
   "id": "df5e2a5c",
   "metadata": {},
   "outputs": [
    {
     "data": {
      "text/html": [
       "<div>\n",
       "<style scoped>\n",
       "    .dataframe tbody tr th:only-of-type {\n",
       "        vertical-align: middle;\n",
       "    }\n",
       "\n",
       "    .dataframe tbody tr th {\n",
       "        vertical-align: top;\n",
       "    }\n",
       "\n",
       "    .dataframe thead th {\n",
       "        text-align: right;\n",
       "    }\n",
       "</style>\n",
       "<table border=\"1\" class=\"dataframe\">\n",
       "  <thead>\n",
       "    <tr style=\"text-align: right;\">\n",
       "      <th></th>\n",
       "      <th>COUNTRY</th>\n",
       "      <th>SOURCE</th>\n",
       "      <th>SEX</th>\n",
       "      <th>AGE</th>\n",
       "      <th>PRICE</th>\n",
       "    </tr>\n",
       "  </thead>\n",
       "  <tbody>\n",
       "    <tr>\n",
       "      <th>0</th>\n",
       "      <td>bra</td>\n",
       "      <td>android</td>\n",
       "      <td>female</td>\n",
       "      <td>15</td>\n",
       "      <td>38.714286</td>\n",
       "    </tr>\n",
       "    <tr>\n",
       "      <th>1</th>\n",
       "      <td>bra</td>\n",
       "      <td>android</td>\n",
       "      <td>female</td>\n",
       "      <td>16</td>\n",
       "      <td>35.944444</td>\n",
       "    </tr>\n",
       "    <tr>\n",
       "      <th>2</th>\n",
       "      <td>bra</td>\n",
       "      <td>android</td>\n",
       "      <td>female</td>\n",
       "      <td>17</td>\n",
       "      <td>35.666667</td>\n",
       "    </tr>\n",
       "    <tr>\n",
       "      <th>3</th>\n",
       "      <td>bra</td>\n",
       "      <td>android</td>\n",
       "      <td>female</td>\n",
       "      <td>18</td>\n",
       "      <td>32.255814</td>\n",
       "    </tr>\n",
       "    <tr>\n",
       "      <th>4</th>\n",
       "      <td>bra</td>\n",
       "      <td>android</td>\n",
       "      <td>female</td>\n",
       "      <td>19</td>\n",
       "      <td>35.206897</td>\n",
       "    </tr>\n",
       "  </tbody>\n",
       "</table>\n",
       "</div>"
      ],
      "text/plain": [
       "  COUNTRY   SOURCE     SEX  AGE      PRICE\n",
       "0     bra  android  female   15  38.714286\n",
       "1     bra  android  female   16  35.944444\n",
       "2     bra  android  female   17  35.666667\n",
       "3     bra  android  female   18  32.255814\n",
       "4     bra  android  female   19  35.206897"
      ]
     },
     "execution_count": 31,
     "metadata": {},
     "output_type": "execute_result"
    }
   ],
   "source": [
    "agg_df.head()"
   ]
  },
  {
   "cell_type": "markdown",
   "id": "1e7a9fb4",
   "metadata": {},
   "source": [
    "- If we want to make rule based classification we need to downgrade number of unique values for some columns.\n",
    "- In this example, AGE has so many unique values because of its nature.\n",
    "- We can downgrade it by changing it to object format and making ranges for some age intervals."
   ]
  },
  {
   "cell_type": "markdown",
   "id": "723f291c",
   "metadata": {},
   "source": [
    "### What are the ranges we will determine for the age variable?"
   ]
  },
  {
   "cell_type": "code",
   "execution_count": 32,
   "id": "78e0ae01",
   "metadata": {},
   "outputs": [],
   "source": [
    "bins = [0, 18, 23, 30, 40, agg_df['AGE'].max()]"
   ]
  },
  {
   "cell_type": "markdown",
   "id": "540c6cd0",
   "metadata": {},
   "source": [
    "### What are the class names we will determime for the age variable?"
   ]
  },
  {
   "cell_type": "code",
   "execution_count": 33,
   "id": "7a59481d",
   "metadata": {},
   "outputs": [],
   "source": [
    "labels = [\"0_18\", \"19_23\", \"24_30\", \"31_40\", \"41_\" + str(agg_df['AGE'].max())]"
   ]
  },
  {
   "cell_type": "code",
   "execution_count": 34,
   "id": "ce212bd2",
   "metadata": {},
   "outputs": [],
   "source": [
    "## labels = [\"0_18\", \"19_23\", \"24_30\", \"31_40\", f\"41_{agg_df['AGE'].max()}\"]"
   ]
  },
  {
   "cell_type": "markdown",
   "id": "50f38f55",
   "metadata": {},
   "source": [
    "- There are 2 functions for making new classes; pd.cut and pd.qcut.\n",
    "- pd.cut = if we are going to make intervals before.\n",
    "- pd.qcut = we can define intervals inside the function."
   ]
  },
  {
   "cell_type": "code",
   "execution_count": 35,
   "id": "b21f9ccb",
   "metadata": {},
   "outputs": [
    {
     "data": {
      "text/plain": [
       "0       0_18\n",
       "1       0_18\n",
       "2       0_18\n",
       "3       0_18\n",
       "4      19_23\n",
       "       ...  \n",
       "343    41_66\n",
       "344    41_66\n",
       "345    41_66\n",
       "346    41_66\n",
       "347    41_66\n",
       "Name: AGE, Length: 348, dtype: category\n",
       "Categories (5, object): ['0_18' < '19_23' < '24_30' < '31_40' < '41_66']"
      ]
     },
     "execution_count": 35,
     "metadata": {},
     "output_type": "execute_result"
    }
   ],
   "source": [
    "pd.cut(agg_df[\"AGE\"], bins = bins, labels = labels)"
   ]
  },
  {
   "cell_type": "code",
   "execution_count": 36,
   "id": "6b45f214",
   "metadata": {},
   "outputs": [],
   "source": [
    "agg_df[\"AGE_CAT\"] = pd.cut(agg_df[\"AGE\"], bins = bins, labels = labels)"
   ]
  },
  {
   "cell_type": "code",
   "execution_count": 37,
   "id": "e123a69c",
   "metadata": {
    "scrolled": true
   },
   "outputs": [
    {
     "data": {
      "text/html": [
       "<div>\n",
       "<style scoped>\n",
       "    .dataframe tbody tr th:only-of-type {\n",
       "        vertical-align: middle;\n",
       "    }\n",
       "\n",
       "    .dataframe tbody tr th {\n",
       "        vertical-align: top;\n",
       "    }\n",
       "\n",
       "    .dataframe thead th {\n",
       "        text-align: right;\n",
       "    }\n",
       "</style>\n",
       "<table border=\"1\" class=\"dataframe\">\n",
       "  <thead>\n",
       "    <tr style=\"text-align: right;\">\n",
       "      <th></th>\n",
       "      <th>COUNTRY</th>\n",
       "      <th>SOURCE</th>\n",
       "      <th>SEX</th>\n",
       "      <th>AGE</th>\n",
       "      <th>PRICE</th>\n",
       "      <th>AGE_CAT</th>\n",
       "    </tr>\n",
       "  </thead>\n",
       "  <tbody>\n",
       "    <tr>\n",
       "      <th>0</th>\n",
       "      <td>bra</td>\n",
       "      <td>android</td>\n",
       "      <td>female</td>\n",
       "      <td>15</td>\n",
       "      <td>38.714286</td>\n",
       "      <td>0_18</td>\n",
       "    </tr>\n",
       "    <tr>\n",
       "      <th>1</th>\n",
       "      <td>bra</td>\n",
       "      <td>android</td>\n",
       "      <td>female</td>\n",
       "      <td>16</td>\n",
       "      <td>35.944444</td>\n",
       "      <td>0_18</td>\n",
       "    </tr>\n",
       "    <tr>\n",
       "      <th>2</th>\n",
       "      <td>bra</td>\n",
       "      <td>android</td>\n",
       "      <td>female</td>\n",
       "      <td>17</td>\n",
       "      <td>35.666667</td>\n",
       "      <td>0_18</td>\n",
       "    </tr>\n",
       "    <tr>\n",
       "      <th>3</th>\n",
       "      <td>bra</td>\n",
       "      <td>android</td>\n",
       "      <td>female</td>\n",
       "      <td>18</td>\n",
       "      <td>32.255814</td>\n",
       "      <td>0_18</td>\n",
       "    </tr>\n",
       "    <tr>\n",
       "      <th>4</th>\n",
       "      <td>bra</td>\n",
       "      <td>android</td>\n",
       "      <td>female</td>\n",
       "      <td>19</td>\n",
       "      <td>35.206897</td>\n",
       "      <td>19_23</td>\n",
       "    </tr>\n",
       "  </tbody>\n",
       "</table>\n",
       "</div>"
      ],
      "text/plain": [
       "  COUNTRY   SOURCE     SEX  AGE      PRICE AGE_CAT\n",
       "0     bra  android  female   15  38.714286    0_18\n",
       "1     bra  android  female   16  35.944444    0_18\n",
       "2     bra  android  female   17  35.666667    0_18\n",
       "3     bra  android  female   18  32.255814    0_18\n",
       "4     bra  android  female   19  35.206897   19_23"
      ]
     },
     "execution_count": 37,
     "metadata": {},
     "output_type": "execute_result"
    }
   ],
   "source": [
    "agg_df.head()"
   ]
  },
  {
   "cell_type": "markdown",
   "id": "2a08150e",
   "metadata": {},
   "source": [
    "### Right now we have low unique classed age variable and we need to define customers with other variables too.\n",
    "- For this reason, we need to create new column called \"customers_level_based\".\n",
    "- From beginning to here, in every iteration we are grouping the dataset part by part. In the final view, sample size will be downgraded max 100-110 rows."
   ]
  },
  {
   "cell_type": "code",
   "execution_count": 38,
   "id": "b79369e8",
   "metadata": {},
   "outputs": [
    {
     "data": {
      "text/html": [
       "<div>\n",
       "<style scoped>\n",
       "    .dataframe tbody tr th:only-of-type {\n",
       "        vertical-align: middle;\n",
       "    }\n",
       "\n",
       "    .dataframe tbody tr th {\n",
       "        vertical-align: top;\n",
       "    }\n",
       "\n",
       "    .dataframe thead th {\n",
       "        text-align: right;\n",
       "    }\n",
       "</style>\n",
       "<table border=\"1\" class=\"dataframe\">\n",
       "  <thead>\n",
       "    <tr style=\"text-align: right;\">\n",
       "      <th></th>\n",
       "      <th>COUNTRY</th>\n",
       "      <th>SOURCE</th>\n",
       "      <th>SEX</th>\n",
       "      <th>AGE_CAT</th>\n",
       "    </tr>\n",
       "  </thead>\n",
       "  <tbody>\n",
       "    <tr>\n",
       "      <th>0</th>\n",
       "      <td>bra</td>\n",
       "      <td>android</td>\n",
       "      <td>female</td>\n",
       "      <td>0_18</td>\n",
       "    </tr>\n",
       "    <tr>\n",
       "      <th>1</th>\n",
       "      <td>bra</td>\n",
       "      <td>android</td>\n",
       "      <td>female</td>\n",
       "      <td>0_18</td>\n",
       "    </tr>\n",
       "    <tr>\n",
       "      <th>2</th>\n",
       "      <td>bra</td>\n",
       "      <td>android</td>\n",
       "      <td>female</td>\n",
       "      <td>0_18</td>\n",
       "    </tr>\n",
       "    <tr>\n",
       "      <th>3</th>\n",
       "      <td>bra</td>\n",
       "      <td>android</td>\n",
       "      <td>female</td>\n",
       "      <td>0_18</td>\n",
       "    </tr>\n",
       "    <tr>\n",
       "      <th>4</th>\n",
       "      <td>bra</td>\n",
       "      <td>android</td>\n",
       "      <td>female</td>\n",
       "      <td>19_23</td>\n",
       "    </tr>\n",
       "    <tr>\n",
       "      <th>...</th>\n",
       "      <td>...</td>\n",
       "      <td>...</td>\n",
       "      <td>...</td>\n",
       "      <td>...</td>\n",
       "    </tr>\n",
       "    <tr>\n",
       "      <th>343</th>\n",
       "      <td>usa</td>\n",
       "      <td>ios</td>\n",
       "      <td>male</td>\n",
       "      <td>41_66</td>\n",
       "    </tr>\n",
       "    <tr>\n",
       "      <th>344</th>\n",
       "      <td>usa</td>\n",
       "      <td>ios</td>\n",
       "      <td>male</td>\n",
       "      <td>41_66</td>\n",
       "    </tr>\n",
       "    <tr>\n",
       "      <th>345</th>\n",
       "      <td>usa</td>\n",
       "      <td>ios</td>\n",
       "      <td>male</td>\n",
       "      <td>41_66</td>\n",
       "    </tr>\n",
       "    <tr>\n",
       "      <th>346</th>\n",
       "      <td>usa</td>\n",
       "      <td>ios</td>\n",
       "      <td>male</td>\n",
       "      <td>41_66</td>\n",
       "    </tr>\n",
       "    <tr>\n",
       "      <th>347</th>\n",
       "      <td>usa</td>\n",
       "      <td>ios</td>\n",
       "      <td>male</td>\n",
       "      <td>41_66</td>\n",
       "    </tr>\n",
       "  </tbody>\n",
       "</table>\n",
       "<p>348 rows × 4 columns</p>\n",
       "</div>"
      ],
      "text/plain": [
       "    COUNTRY   SOURCE     SEX AGE_CAT\n",
       "0       bra  android  female    0_18\n",
       "1       bra  android  female    0_18\n",
       "2       bra  android  female    0_18\n",
       "3       bra  android  female    0_18\n",
       "4       bra  android  female   19_23\n",
       "..      ...      ...     ...     ...\n",
       "343     usa      ios    male   41_66\n",
       "344     usa      ios    male   41_66\n",
       "345     usa      ios    male   41_66\n",
       "346     usa      ios    male   41_66\n",
       "347     usa      ios    male   41_66\n",
       "\n",
       "[348 rows x 4 columns]"
      ]
     },
     "execution_count": 38,
     "metadata": {},
     "output_type": "execute_result"
    }
   ],
   "source": [
    "agg_df.drop([\"AGE\", \"PRICE\"], axis = 1)"
   ]
  },
  {
   "cell_type": "code",
   "execution_count": 39,
   "id": "7bcfddf9",
   "metadata": {},
   "outputs": [
    {
     "data": {
      "text/plain": [
       "array([['bra', 'android', 'female', '0_18'],\n",
       "       ['bra', 'android', 'female', '0_18'],\n",
       "       ['bra', 'android', 'female', '0_18'],\n",
       "       ...,\n",
       "       ['usa', 'ios', 'male', '41_66'],\n",
       "       ['usa', 'ios', 'male', '41_66'],\n",
       "       ['usa', 'ios', 'male', '41_66']], dtype=object)"
      ]
     },
     "execution_count": 39,
     "metadata": {},
     "output_type": "execute_result"
    }
   ],
   "source": [
    "agg_df.drop([\"AGE\", \"PRICE\"], axis = 1).values"
   ]
  },
  {
   "cell_type": "markdown",
   "id": "f3be7676",
   "metadata": {},
   "source": [
    "- At this stage, we need to meet .join method.\n",
    "- If we have a list like A, B, C, D and if we are goin to use --> '-'.join(list) method, our list will be look like this --> A-B-C-D\n",
    "- This method is proper to use for this problem."
   ]
  },
  {
   "cell_type": "code",
   "execution_count": 41,
   "id": "e2730551",
   "metadata": {},
   "outputs": [
    {
     "data": {
      "text/plain": [
       "['BRA_ANDROID_FEMALE_0_18',\n",
       " 'BRA_ANDROID_FEMALE_0_18',\n",
       " 'BRA_ANDROID_FEMALE_0_18',\n",
       " 'BRA_ANDROID_FEMALE_0_18',\n",
       " 'BRA_ANDROID_FEMALE_19_23',\n",
       " 'BRA_ANDROID_FEMALE_19_23',\n",
       " 'BRA_ANDROID_FEMALE_19_23',\n",
       " 'BRA_ANDROID_FEMALE_19_23',\n",
       " 'BRA_ANDROID_FEMALE_19_23',\n",
       " 'BRA_ANDROID_FEMALE_24_30',\n",
       " 'BRA_ANDROID_FEMALE_24_30',\n",
       " 'BRA_ANDROID_FEMALE_24_30',\n",
       " 'BRA_ANDROID_FEMALE_24_30',\n",
       " 'BRA_ANDROID_FEMALE_24_30',\n",
       " 'BRA_ANDROID_FEMALE_24_30',\n",
       " 'BRA_ANDROID_FEMALE_24_30',\n",
       " 'BRA_ANDROID_FEMALE_31_40',\n",
       " 'BRA_ANDROID_FEMALE_31_40',\n",
       " 'BRA_ANDROID_FEMALE_31_40',\n",
       " 'BRA_ANDROID_FEMALE_31_40',\n",
       " 'BRA_ANDROID_FEMALE_31_40',\n",
       " 'BRA_ANDROID_FEMALE_31_40',\n",
       " 'BRA_ANDROID_FEMALE_41_66',\n",
       " 'BRA_ANDROID_FEMALE_41_66',\n",
       " 'BRA_ANDROID_FEMALE_41_66',\n",
       " 'BRA_ANDROID_FEMALE_41_66',\n",
       " 'BRA_ANDROID_MALE_0_18',\n",
       " 'BRA_ANDROID_MALE_0_18',\n",
       " 'BRA_ANDROID_MALE_0_18',\n",
       " 'BRA_ANDROID_MALE_0_18',\n",
       " 'BRA_ANDROID_MALE_19_23',\n",
       " 'BRA_ANDROID_MALE_19_23',\n",
       " 'BRA_ANDROID_MALE_19_23',\n",
       " 'BRA_ANDROID_MALE_19_23',\n",
       " 'BRA_ANDROID_MALE_19_23',\n",
       " 'BRA_ANDROID_MALE_24_30',\n",
       " 'BRA_ANDROID_MALE_24_30',\n",
       " 'BRA_ANDROID_MALE_24_30',\n",
       " 'BRA_ANDROID_MALE_24_30',\n",
       " 'BRA_ANDROID_MALE_24_30',\n",
       " 'BRA_ANDROID_MALE_24_30',\n",
       " 'BRA_ANDROID_MALE_24_30',\n",
       " 'BRA_ANDROID_MALE_31_40',\n",
       " 'BRA_ANDROID_MALE_31_40',\n",
       " 'BRA_ANDROID_MALE_31_40',\n",
       " 'BRA_ANDROID_MALE_41_66',\n",
       " 'BRA_ANDROID_MALE_41_66',\n",
       " 'BRA_ANDROID_MALE_41_66',\n",
       " 'BRA_ANDROID_MALE_41_66',\n",
       " 'BRA_IOS_FEMALE_0_18',\n",
       " 'BRA_IOS_FEMALE_0_18',\n",
       " 'BRA_IOS_FEMALE_0_18',\n",
       " 'BRA_IOS_FEMALE_0_18',\n",
       " 'BRA_IOS_FEMALE_19_23',\n",
       " 'BRA_IOS_FEMALE_19_23',\n",
       " 'BRA_IOS_FEMALE_19_23',\n",
       " 'BRA_IOS_FEMALE_19_23',\n",
       " 'BRA_IOS_FEMALE_24_30',\n",
       " 'BRA_IOS_FEMALE_24_30',\n",
       " 'BRA_IOS_FEMALE_24_30',\n",
       " 'BRA_IOS_FEMALE_24_30',\n",
       " 'BRA_IOS_FEMALE_24_30',\n",
       " 'BRA_IOS_FEMALE_24_30',\n",
       " 'BRA_IOS_FEMALE_31_40',\n",
       " 'BRA_IOS_FEMALE_31_40',\n",
       " 'BRA_IOS_FEMALE_31_40',\n",
       " 'BRA_IOS_FEMALE_31_40',\n",
       " 'BRA_IOS_FEMALE_31_40',\n",
       " 'BRA_IOS_FEMALE_41_66',\n",
       " 'BRA_IOS_FEMALE_41_66',\n",
       " 'BRA_IOS_FEMALE_41_66',\n",
       " 'BRA_IOS_FEMALE_41_66',\n",
       " 'BRA_IOS_MALE_0_18',\n",
       " 'BRA_IOS_MALE_0_18',\n",
       " 'BRA_IOS_MALE_0_18',\n",
       " 'BRA_IOS_MALE_0_18',\n",
       " 'BRA_IOS_MALE_19_23',\n",
       " 'BRA_IOS_MALE_19_23',\n",
       " 'BRA_IOS_MALE_19_23',\n",
       " 'BRA_IOS_MALE_19_23',\n",
       " 'BRA_IOS_MALE_24_30',\n",
       " 'BRA_IOS_MALE_31_40',\n",
       " 'BRA_IOS_MALE_31_40',\n",
       " 'BRA_IOS_MALE_31_40',\n",
       " 'BRA_IOS_MALE_31_40',\n",
       " 'BRA_IOS_MALE_31_40',\n",
       " 'BRA_IOS_MALE_31_40',\n",
       " 'BRA_IOS_MALE_41_66',\n",
       " 'BRA_IOS_MALE_41_66',\n",
       " 'BRA_IOS_MALE_41_66',\n",
       " 'BRA_IOS_MALE_41_66',\n",
       " 'BRA_IOS_MALE_41_66',\n",
       " 'CAN_ANDROID_FEMALE_0_18',\n",
       " 'CAN_ANDROID_FEMALE_0_18',\n",
       " 'CAN_ANDROID_FEMALE_0_18',\n",
       " 'CAN_ANDROID_FEMALE_19_23',\n",
       " 'CAN_ANDROID_FEMALE_19_23',\n",
       " 'CAN_ANDROID_FEMALE_24_30',\n",
       " 'CAN_ANDROID_FEMALE_41_66',\n",
       " 'CAN_ANDROID_MALE_0_18',\n",
       " 'CAN_ANDROID_MALE_19_23',\n",
       " 'CAN_ANDROID_MALE_24_30',\n",
       " 'CAN_ANDROID_MALE_24_30',\n",
       " 'CAN_ANDROID_MALE_41_66',\n",
       " 'CAN_IOS_FEMALE_0_18',\n",
       " 'CAN_IOS_FEMALE_0_18',\n",
       " 'CAN_IOS_FEMALE_24_30',\n",
       " 'CAN_IOS_MALE_0_18',\n",
       " 'CAN_IOS_MALE_0_18',\n",
       " 'CAN_IOS_MALE_0_18',\n",
       " 'CAN_IOS_MALE_24_30',\n",
       " 'CAN_IOS_MALE_31_40',\n",
       " 'CAN_IOS_MALE_41_66',\n",
       " 'DEU_ANDROID_FEMALE_0_18',\n",
       " 'DEU_ANDROID_FEMALE_0_18',\n",
       " 'DEU_ANDROID_FEMALE_0_18',\n",
       " 'DEU_ANDROID_FEMALE_19_23',\n",
       " 'DEU_ANDROID_FEMALE_19_23',\n",
       " 'DEU_ANDROID_FEMALE_19_23',\n",
       " 'DEU_ANDROID_FEMALE_24_30',\n",
       " 'DEU_ANDROID_FEMALE_24_30',\n",
       " 'DEU_ANDROID_FEMALE_24_30',\n",
       " 'DEU_ANDROID_FEMALE_24_30',\n",
       " 'DEU_ANDROID_FEMALE_31_40',\n",
       " 'DEU_ANDROID_FEMALE_31_40',\n",
       " 'DEU_ANDROID_FEMALE_31_40',\n",
       " 'DEU_ANDROID_FEMALE_31_40',\n",
       " 'DEU_ANDROID_FEMALE_41_66',\n",
       " 'DEU_ANDROID_FEMALE_41_66',\n",
       " 'DEU_ANDROID_FEMALE_41_66',\n",
       " 'DEU_ANDROID_MALE_0_18',\n",
       " 'DEU_ANDROID_MALE_0_18',\n",
       " 'DEU_ANDROID_MALE_0_18',\n",
       " 'DEU_ANDROID_MALE_19_23',\n",
       " 'DEU_ANDROID_MALE_19_23',\n",
       " 'DEU_ANDROID_MALE_19_23',\n",
       " 'DEU_ANDROID_MALE_19_23',\n",
       " 'DEU_ANDROID_MALE_24_30',\n",
       " 'DEU_ANDROID_MALE_24_30',\n",
       " 'DEU_ANDROID_MALE_31_40',\n",
       " 'DEU_ANDROID_MALE_31_40',\n",
       " 'DEU_ANDROID_MALE_31_40',\n",
       " 'DEU_ANDROID_MALE_31_40',\n",
       " 'DEU_ANDROID_MALE_31_40',\n",
       " 'DEU_IOS_FEMALE_0_18',\n",
       " 'DEU_IOS_FEMALE_0_18',\n",
       " 'DEU_IOS_FEMALE_0_18',\n",
       " 'DEU_IOS_FEMALE_0_18',\n",
       " 'DEU_IOS_FEMALE_19_23',\n",
       " 'DEU_IOS_FEMALE_19_23',\n",
       " 'DEU_IOS_FEMALE_24_30',\n",
       " 'DEU_IOS_FEMALE_24_30',\n",
       " 'DEU_IOS_FEMALE_31_40',\n",
       " 'DEU_IOS_MALE_0_18',\n",
       " 'DEU_IOS_MALE_0_18',\n",
       " 'DEU_IOS_MALE_19_23',\n",
       " 'DEU_IOS_MALE_19_23',\n",
       " 'DEU_IOS_MALE_24_30',\n",
       " 'DEU_IOS_MALE_24_30',\n",
       " 'DEU_IOS_MALE_31_40',\n",
       " 'DEU_IOS_MALE_41_66',\n",
       " 'FRA_ANDROID_FEMALE_0_18',\n",
       " 'FRA_ANDROID_FEMALE_0_18',\n",
       " 'FRA_ANDROID_FEMALE_0_18',\n",
       " 'FRA_ANDROID_FEMALE_19_23',\n",
       " 'FRA_ANDROID_FEMALE_19_23',\n",
       " 'FRA_ANDROID_FEMALE_19_23',\n",
       " 'FRA_ANDROID_FEMALE_24_30',\n",
       " 'FRA_ANDROID_FEMALE_24_30',\n",
       " 'FRA_ANDROID_FEMALE_31_40',\n",
       " 'FRA_ANDROID_MALE_0_18',\n",
       " 'FRA_ANDROID_MALE_0_18',\n",
       " 'FRA_ANDROID_MALE_19_23',\n",
       " 'FRA_ANDROID_MALE_19_23',\n",
       " 'FRA_ANDROID_MALE_19_23',\n",
       " 'FRA_ANDROID_MALE_24_30',\n",
       " 'FRA_ANDROID_MALE_31_40',\n",
       " 'FRA_ANDROID_MALE_31_40',\n",
       " 'FRA_ANDROID_MALE_41_66',\n",
       " 'FRA_ANDROID_MALE_41_66',\n",
       " 'FRA_IOS_FEMALE_0_18',\n",
       " 'FRA_IOS_FEMALE_0_18',\n",
       " 'FRA_IOS_FEMALE_0_18',\n",
       " 'FRA_IOS_FEMALE_24_30',\n",
       " 'FRA_IOS_FEMALE_24_30',\n",
       " 'FRA_IOS_FEMALE_31_40',\n",
       " 'FRA_IOS_FEMALE_31_40',\n",
       " 'FRA_IOS_MALE_0_18',\n",
       " 'FRA_IOS_MALE_0_18',\n",
       " 'FRA_IOS_MALE_0_18',\n",
       " 'FRA_IOS_MALE_19_23',\n",
       " 'FRA_IOS_MALE_19_23',\n",
       " 'FRA_IOS_MALE_19_23',\n",
       " 'FRA_IOS_MALE_24_30',\n",
       " 'FRA_IOS_MALE_24_30',\n",
       " 'FRA_IOS_MALE_31_40',\n",
       " 'FRA_IOS_MALE_31_40',\n",
       " 'FRA_IOS_MALE_41_66',\n",
       " 'TUR_ANDROID_FEMALE_0_18',\n",
       " 'TUR_ANDROID_FEMALE_0_18',\n",
       " 'TUR_ANDROID_FEMALE_0_18',\n",
       " 'TUR_ANDROID_FEMALE_0_18',\n",
       " 'TUR_ANDROID_FEMALE_19_23',\n",
       " 'TUR_ANDROID_FEMALE_19_23',\n",
       " 'TUR_ANDROID_FEMALE_19_23',\n",
       " 'TUR_ANDROID_FEMALE_24_30',\n",
       " 'TUR_ANDROID_FEMALE_24_30',\n",
       " 'TUR_ANDROID_FEMALE_31_40',\n",
       " 'TUR_ANDROID_FEMALE_31_40',\n",
       " 'TUR_ANDROID_FEMALE_41_66',\n",
       " 'TUR_ANDROID_FEMALE_41_66',\n",
       " 'TUR_ANDROID_FEMALE_41_66',\n",
       " 'TUR_ANDROID_FEMALE_41_66',\n",
       " 'TUR_ANDROID_MALE_0_18',\n",
       " 'TUR_ANDROID_MALE_0_18',\n",
       " 'TUR_ANDROID_MALE_0_18',\n",
       " 'TUR_ANDROID_MALE_19_23',\n",
       " 'TUR_ANDROID_MALE_19_23',\n",
       " 'TUR_ANDROID_MALE_24_30',\n",
       " 'TUR_ANDROID_MALE_24_30',\n",
       " 'TUR_ANDROID_MALE_24_30',\n",
       " 'TUR_ANDROID_MALE_24_30',\n",
       " 'TUR_ANDROID_MALE_31_40',\n",
       " 'TUR_ANDROID_MALE_41_66',\n",
       " 'TUR_IOS_FEMALE_0_18',\n",
       " 'TUR_IOS_FEMALE_0_18',\n",
       " 'TUR_IOS_FEMALE_0_18',\n",
       " 'TUR_IOS_FEMALE_19_23',\n",
       " 'TUR_IOS_FEMALE_19_23',\n",
       " 'TUR_IOS_FEMALE_19_23',\n",
       " 'TUR_IOS_FEMALE_19_23',\n",
       " 'TUR_IOS_FEMALE_19_23',\n",
       " 'TUR_IOS_FEMALE_24_30',\n",
       " 'TUR_IOS_FEMALE_24_30',\n",
       " 'TUR_IOS_FEMALE_31_40',\n",
       " 'TUR_IOS_FEMALE_31_40',\n",
       " 'TUR_IOS_FEMALE_41_66',\n",
       " 'TUR_IOS_MALE_0_18',\n",
       " 'TUR_IOS_MALE_0_18',\n",
       " 'TUR_IOS_MALE_0_18',\n",
       " 'TUR_IOS_MALE_19_23',\n",
       " 'TUR_IOS_MALE_19_23',\n",
       " 'TUR_IOS_MALE_24_30',\n",
       " 'TUR_IOS_MALE_31_40',\n",
       " 'TUR_IOS_MALE_41_66',\n",
       " 'TUR_IOS_MALE_41_66',\n",
       " 'USA_ANDROID_FEMALE_0_18',\n",
       " 'USA_ANDROID_FEMALE_0_18',\n",
       " 'USA_ANDROID_FEMALE_0_18',\n",
       " 'USA_ANDROID_FEMALE_0_18',\n",
       " 'USA_ANDROID_FEMALE_19_23',\n",
       " 'USA_ANDROID_FEMALE_19_23',\n",
       " 'USA_ANDROID_FEMALE_19_23',\n",
       " 'USA_ANDROID_FEMALE_19_23',\n",
       " 'USA_ANDROID_FEMALE_19_23',\n",
       " 'USA_ANDROID_FEMALE_24_30',\n",
       " 'USA_ANDROID_FEMALE_24_30',\n",
       " 'USA_ANDROID_FEMALE_24_30',\n",
       " 'USA_ANDROID_FEMALE_24_30',\n",
       " 'USA_ANDROID_FEMALE_24_30',\n",
       " 'USA_ANDROID_FEMALE_24_30',\n",
       " 'USA_ANDROID_FEMALE_31_40',\n",
       " 'USA_ANDROID_FEMALE_31_40',\n",
       " 'USA_ANDROID_FEMALE_31_40',\n",
       " 'USA_ANDROID_FEMALE_31_40',\n",
       " 'USA_ANDROID_FEMALE_31_40',\n",
       " 'USA_ANDROID_FEMALE_41_66',\n",
       " 'USA_ANDROID_FEMALE_41_66',\n",
       " 'USA_ANDROID_FEMALE_41_66',\n",
       " 'USA_ANDROID_FEMALE_41_66',\n",
       " 'USA_ANDROID_FEMALE_41_66',\n",
       " 'USA_ANDROID_MALE_0_18',\n",
       " 'USA_ANDROID_MALE_0_18',\n",
       " 'USA_ANDROID_MALE_0_18',\n",
       " 'USA_ANDROID_MALE_0_18',\n",
       " 'USA_ANDROID_MALE_19_23',\n",
       " 'USA_ANDROID_MALE_19_23',\n",
       " 'USA_ANDROID_MALE_19_23',\n",
       " 'USA_ANDROID_MALE_19_23',\n",
       " 'USA_ANDROID_MALE_19_23',\n",
       " 'USA_ANDROID_MALE_24_30',\n",
       " 'USA_ANDROID_MALE_24_30',\n",
       " 'USA_ANDROID_MALE_24_30',\n",
       " 'USA_ANDROID_MALE_24_30',\n",
       " 'USA_ANDROID_MALE_24_30',\n",
       " 'USA_ANDROID_MALE_24_30',\n",
       " 'USA_ANDROID_MALE_24_30',\n",
       " 'USA_ANDROID_MALE_31_40',\n",
       " 'USA_ANDROID_MALE_31_40',\n",
       " 'USA_ANDROID_MALE_31_40',\n",
       " 'USA_ANDROID_MALE_31_40',\n",
       " 'USA_ANDROID_MALE_31_40',\n",
       " 'USA_ANDROID_MALE_31_40',\n",
       " 'USA_ANDROID_MALE_41_66',\n",
       " 'USA_ANDROID_MALE_41_66',\n",
       " 'USA_ANDROID_MALE_41_66',\n",
       " 'USA_ANDROID_MALE_41_66',\n",
       " 'USA_ANDROID_MALE_41_66',\n",
       " 'USA_ANDROID_MALE_41_66',\n",
       " 'USA_ANDROID_MALE_41_66',\n",
       " 'USA_IOS_FEMALE_0_18',\n",
       " 'USA_IOS_FEMALE_0_18',\n",
       " 'USA_IOS_FEMALE_0_18',\n",
       " 'USA_IOS_FEMALE_0_18',\n",
       " 'USA_IOS_FEMALE_19_23',\n",
       " 'USA_IOS_FEMALE_19_23',\n",
       " 'USA_IOS_FEMALE_19_23',\n",
       " 'USA_IOS_FEMALE_19_23',\n",
       " 'USA_IOS_FEMALE_19_23',\n",
       " 'USA_IOS_FEMALE_24_30',\n",
       " 'USA_IOS_FEMALE_24_30',\n",
       " 'USA_IOS_FEMALE_24_30',\n",
       " 'USA_IOS_FEMALE_24_30',\n",
       " 'USA_IOS_FEMALE_24_30',\n",
       " 'USA_IOS_FEMALE_24_30',\n",
       " 'USA_IOS_FEMALE_24_30',\n",
       " 'USA_IOS_FEMALE_31_40',\n",
       " 'USA_IOS_FEMALE_31_40',\n",
       " 'USA_IOS_FEMALE_31_40',\n",
       " 'USA_IOS_FEMALE_31_40',\n",
       " 'USA_IOS_FEMALE_41_66',\n",
       " 'USA_IOS_FEMALE_41_66',\n",
       " 'USA_IOS_FEMALE_41_66',\n",
       " 'USA_IOS_FEMALE_41_66',\n",
       " 'USA_IOS_FEMALE_41_66',\n",
       " 'USA_IOS_MALE_0_18',\n",
       " 'USA_IOS_MALE_0_18',\n",
       " 'USA_IOS_MALE_0_18',\n",
       " 'USA_IOS_MALE_0_18',\n",
       " 'USA_IOS_MALE_19_23',\n",
       " 'USA_IOS_MALE_19_23',\n",
       " 'USA_IOS_MALE_19_23',\n",
       " 'USA_IOS_MALE_24_30',\n",
       " 'USA_IOS_MALE_24_30',\n",
       " 'USA_IOS_MALE_24_30',\n",
       " 'USA_IOS_MALE_24_30',\n",
       " 'USA_IOS_MALE_24_30',\n",
       " 'USA_IOS_MALE_24_30',\n",
       " 'USA_IOS_MALE_31_40',\n",
       " 'USA_IOS_MALE_31_40',\n",
       " 'USA_IOS_MALE_31_40',\n",
       " 'USA_IOS_MALE_31_40',\n",
       " 'USA_IOS_MALE_31_40',\n",
       " 'USA_IOS_MALE_41_66',\n",
       " 'USA_IOS_MALE_41_66',\n",
       " 'USA_IOS_MALE_41_66',\n",
       " 'USA_IOS_MALE_41_66',\n",
       " 'USA_IOS_MALE_41_66']"
      ]
     },
     "execution_count": 41,
     "metadata": {},
     "output_type": "execute_result"
    }
   ],
   "source": [
    "[\"_\".join(i).upper() for i in agg_df.drop([\"AGE\", \"PRICE\"], axis = 1).values]"
   ]
  },
  {
   "cell_type": "code",
   "execution_count": 42,
   "id": "a83c605e",
   "metadata": {},
   "outputs": [],
   "source": [
    "agg_df[\"CUSTOMER_LEVEL_BASED\"] = [\"_\".join(i).upper() for i in agg_df.drop([\"AGE\", \"PRICE\"], axis = 1).values]"
   ]
  },
  {
   "cell_type": "code",
   "execution_count": 43,
   "id": "258559d4",
   "metadata": {},
   "outputs": [
    {
     "data": {
      "text/html": [
       "<div>\n",
       "<style scoped>\n",
       "    .dataframe tbody tr th:only-of-type {\n",
       "        vertical-align: middle;\n",
       "    }\n",
       "\n",
       "    .dataframe tbody tr th {\n",
       "        vertical-align: top;\n",
       "    }\n",
       "\n",
       "    .dataframe thead th {\n",
       "        text-align: right;\n",
       "    }\n",
       "</style>\n",
       "<table border=\"1\" class=\"dataframe\">\n",
       "  <thead>\n",
       "    <tr style=\"text-align: right;\">\n",
       "      <th></th>\n",
       "      <th>COUNTRY</th>\n",
       "      <th>SOURCE</th>\n",
       "      <th>SEX</th>\n",
       "      <th>AGE</th>\n",
       "      <th>PRICE</th>\n",
       "      <th>AGE_CAT</th>\n",
       "      <th>CUSTOMER_LEVEL_BASED</th>\n",
       "    </tr>\n",
       "  </thead>\n",
       "  <tbody>\n",
       "    <tr>\n",
       "      <th>0</th>\n",
       "      <td>bra</td>\n",
       "      <td>android</td>\n",
       "      <td>female</td>\n",
       "      <td>15</td>\n",
       "      <td>38.714286</td>\n",
       "      <td>0_18</td>\n",
       "      <td>BRA_ANDROID_FEMALE_0_18</td>\n",
       "    </tr>\n",
       "    <tr>\n",
       "      <th>1</th>\n",
       "      <td>bra</td>\n",
       "      <td>android</td>\n",
       "      <td>female</td>\n",
       "      <td>16</td>\n",
       "      <td>35.944444</td>\n",
       "      <td>0_18</td>\n",
       "      <td>BRA_ANDROID_FEMALE_0_18</td>\n",
       "    </tr>\n",
       "    <tr>\n",
       "      <th>2</th>\n",
       "      <td>bra</td>\n",
       "      <td>android</td>\n",
       "      <td>female</td>\n",
       "      <td>17</td>\n",
       "      <td>35.666667</td>\n",
       "      <td>0_18</td>\n",
       "      <td>BRA_ANDROID_FEMALE_0_18</td>\n",
       "    </tr>\n",
       "    <tr>\n",
       "      <th>3</th>\n",
       "      <td>bra</td>\n",
       "      <td>android</td>\n",
       "      <td>female</td>\n",
       "      <td>18</td>\n",
       "      <td>32.255814</td>\n",
       "      <td>0_18</td>\n",
       "      <td>BRA_ANDROID_FEMALE_0_18</td>\n",
       "    </tr>\n",
       "    <tr>\n",
       "      <th>4</th>\n",
       "      <td>bra</td>\n",
       "      <td>android</td>\n",
       "      <td>female</td>\n",
       "      <td>19</td>\n",
       "      <td>35.206897</td>\n",
       "      <td>19_23</td>\n",
       "      <td>BRA_ANDROID_FEMALE_19_23</td>\n",
       "    </tr>\n",
       "  </tbody>\n",
       "</table>\n",
       "</div>"
      ],
      "text/plain": [
       "  COUNTRY   SOURCE     SEX  AGE      PRICE AGE_CAT      CUSTOMER_LEVEL_BASED\n",
       "0     bra  android  female   15  38.714286    0_18   BRA_ANDROID_FEMALE_0_18\n",
       "1     bra  android  female   16  35.944444    0_18   BRA_ANDROID_FEMALE_0_18\n",
       "2     bra  android  female   17  35.666667    0_18   BRA_ANDROID_FEMALE_0_18\n",
       "3     bra  android  female   18  32.255814    0_18   BRA_ANDROID_FEMALE_0_18\n",
       "4     bra  android  female   19  35.206897   19_23  BRA_ANDROID_FEMALE_19_23"
      ]
     },
     "execution_count": 43,
     "metadata": {},
     "output_type": "execute_result"
    }
   ],
   "source": [
    "agg_df.head()"
   ]
  },
  {
   "cell_type": "markdown",
   "id": "46788db2",
   "metadata": {},
   "source": [
    "### Here we are, it is looking all proper for the formatting. Also, we need to drop unnecessary columns."
   ]
  },
  {
   "cell_type": "code",
   "execution_count": 44,
   "id": "a95cf5fa",
   "metadata": {},
   "outputs": [],
   "source": [
    "agg_df = agg_df[[\"CUSTOMER_LEVEL_BASED\", \"PRICE\"]]"
   ]
  },
  {
   "cell_type": "code",
   "execution_count": 45,
   "id": "0a92c81f",
   "metadata": {},
   "outputs": [
    {
     "data": {
      "text/html": [
       "<div>\n",
       "<style scoped>\n",
       "    .dataframe tbody tr th:only-of-type {\n",
       "        vertical-align: middle;\n",
       "    }\n",
       "\n",
       "    .dataframe tbody tr th {\n",
       "        vertical-align: top;\n",
       "    }\n",
       "\n",
       "    .dataframe thead th {\n",
       "        text-align: right;\n",
       "    }\n",
       "</style>\n",
       "<table border=\"1\" class=\"dataframe\">\n",
       "  <thead>\n",
       "    <tr style=\"text-align: right;\">\n",
       "      <th></th>\n",
       "      <th>CUSTOMER_LEVEL_BASED</th>\n",
       "      <th>PRICE</th>\n",
       "    </tr>\n",
       "  </thead>\n",
       "  <tbody>\n",
       "    <tr>\n",
       "      <th>0</th>\n",
       "      <td>BRA_ANDROID_FEMALE_0_18</td>\n",
       "      <td>38.714286</td>\n",
       "    </tr>\n",
       "    <tr>\n",
       "      <th>1</th>\n",
       "      <td>BRA_ANDROID_FEMALE_0_18</td>\n",
       "      <td>35.944444</td>\n",
       "    </tr>\n",
       "    <tr>\n",
       "      <th>2</th>\n",
       "      <td>BRA_ANDROID_FEMALE_0_18</td>\n",
       "      <td>35.666667</td>\n",
       "    </tr>\n",
       "    <tr>\n",
       "      <th>3</th>\n",
       "      <td>BRA_ANDROID_FEMALE_0_18</td>\n",
       "      <td>32.255814</td>\n",
       "    </tr>\n",
       "    <tr>\n",
       "      <th>4</th>\n",
       "      <td>BRA_ANDROID_FEMALE_19_23</td>\n",
       "      <td>35.206897</td>\n",
       "    </tr>\n",
       "  </tbody>\n",
       "</table>\n",
       "</div>"
      ],
      "text/plain": [
       "       CUSTOMER_LEVEL_BASED      PRICE\n",
       "0   BRA_ANDROID_FEMALE_0_18  38.714286\n",
       "1   BRA_ANDROID_FEMALE_0_18  35.944444\n",
       "2   BRA_ANDROID_FEMALE_0_18  35.666667\n",
       "3   BRA_ANDROID_FEMALE_0_18  32.255814\n",
       "4  BRA_ANDROID_FEMALE_19_23  35.206897"
      ]
     },
     "execution_count": 45,
     "metadata": {},
     "output_type": "execute_result"
    }
   ],
   "source": [
    "agg_df.head()"
   ]
  },
  {
   "cell_type": "markdown",
   "id": "ca7d959b",
   "metadata": {},
   "source": [
    "- ### If we look carefully, we can see that there are one or two last steps needed.\n",
    "- ### There are some rows, which are the same and we need to aggregate them one more time.\n",
    "- ### As I mentioned it before, we need to turn back to dataframe format again, so we can get some help from reset_index()."
   ]
  },
  {
   "cell_type": "code",
   "execution_count": 46,
   "id": "fb6a09ee",
   "metadata": {},
   "outputs": [
    {
     "data": {
      "text/plain": [
       "CUSTOMER_LEVEL_BASED\n",
       "BRA_ANDROID_FEMALE_0_18     35.645303\n",
       "BRA_ANDROID_FEMALE_19_23    34.077340\n",
       "BRA_ANDROID_FEMALE_24_30    33.863946\n",
       "BRA_ANDROID_FEMALE_31_40    34.898326\n",
       "BRA_ANDROID_FEMALE_41_66    36.737179\n",
       "                              ...    \n",
       "USA_IOS_MALE_0_18           33.983495\n",
       "USA_IOS_MALE_19_23          34.901872\n",
       "USA_IOS_MALE_24_30          34.838143\n",
       "USA_IOS_MALE_31_40          36.206324\n",
       "USA_IOS_MALE_41_66          35.750000\n",
       "Name: PRICE, Length: 109, dtype: float64"
      ]
     },
     "execution_count": 46,
     "metadata": {},
     "output_type": "execute_result"
    }
   ],
   "source": [
    "agg_df.groupby(\"CUSTOMER_LEVEL_BASED\")[\"PRICE\"].mean()"
   ]
  },
  {
   "cell_type": "code",
   "execution_count": 47,
   "id": "35add3f2",
   "metadata": {},
   "outputs": [],
   "source": [
    "agg_df = agg_df.groupby(\"CUSTOMER_LEVEL_BASED\")[\"PRICE\"].mean().reset_index()"
   ]
  },
  {
   "cell_type": "code",
   "execution_count": 48,
   "id": "94e6043a",
   "metadata": {},
   "outputs": [
    {
     "data": {
      "text/html": [
       "<div>\n",
       "<style scoped>\n",
       "    .dataframe tbody tr th:only-of-type {\n",
       "        vertical-align: middle;\n",
       "    }\n",
       "\n",
       "    .dataframe tbody tr th {\n",
       "        vertical-align: top;\n",
       "    }\n",
       "\n",
       "    .dataframe thead th {\n",
       "        text-align: right;\n",
       "    }\n",
       "</style>\n",
       "<table border=\"1\" class=\"dataframe\">\n",
       "  <thead>\n",
       "    <tr style=\"text-align: right;\">\n",
       "      <th></th>\n",
       "      <th>CUSTOMER_LEVEL_BASED</th>\n",
       "      <th>PRICE</th>\n",
       "    </tr>\n",
       "  </thead>\n",
       "  <tbody>\n",
       "    <tr>\n",
       "      <th>0</th>\n",
       "      <td>BRA_ANDROID_FEMALE_0_18</td>\n",
       "      <td>35.645303</td>\n",
       "    </tr>\n",
       "    <tr>\n",
       "      <th>1</th>\n",
       "      <td>BRA_ANDROID_FEMALE_19_23</td>\n",
       "      <td>34.077340</td>\n",
       "    </tr>\n",
       "    <tr>\n",
       "      <th>2</th>\n",
       "      <td>BRA_ANDROID_FEMALE_24_30</td>\n",
       "      <td>33.863946</td>\n",
       "    </tr>\n",
       "    <tr>\n",
       "      <th>3</th>\n",
       "      <td>BRA_ANDROID_FEMALE_31_40</td>\n",
       "      <td>34.898326</td>\n",
       "    </tr>\n",
       "    <tr>\n",
       "      <th>4</th>\n",
       "      <td>BRA_ANDROID_FEMALE_41_66</td>\n",
       "      <td>36.737179</td>\n",
       "    </tr>\n",
       "  </tbody>\n",
       "</table>\n",
       "</div>"
      ],
      "text/plain": [
       "       CUSTOMER_LEVEL_BASED      PRICE\n",
       "0   BRA_ANDROID_FEMALE_0_18  35.645303\n",
       "1  BRA_ANDROID_FEMALE_19_23  34.077340\n",
       "2  BRA_ANDROID_FEMALE_24_30  33.863946\n",
       "3  BRA_ANDROID_FEMALE_31_40  34.898326\n",
       "4  BRA_ANDROID_FEMALE_41_66  36.737179"
      ]
     },
     "execution_count": 48,
     "metadata": {},
     "output_type": "execute_result"
    }
   ],
   "source": [
    "agg_df.head()"
   ]
  },
  {
   "cell_type": "markdown",
   "id": "92bd0116",
   "metadata": {},
   "source": [
    "### For the last step, there are segments, which needs to be mentioned because we had our customer types, but we don't know its price's segmentation.\n",
    "### Let's create some segmentation."
   ]
  },
  {
   "cell_type": "code",
   "execution_count": 50,
   "id": "3a8c6967",
   "metadata": {
    "scrolled": true
   },
   "outputs": [
    {
     "data": {
      "text/plain": [
       "0      B\n",
       "1      C\n",
       "2      C\n",
       "3      B\n",
       "4      A\n",
       "      ..\n",
       "104    C\n",
       "105    B\n",
       "106    B\n",
       "107    A\n",
       "108    B\n",
       "Name: PRICE, Length: 109, dtype: category\n",
       "Categories (4, object): ['D' < 'C' < 'B' < 'A']"
      ]
     },
     "execution_count": 50,
     "metadata": {},
     "output_type": "execute_result"
    }
   ],
   "source": [
    "pd.qcut(agg_df[\"PRICE\"], q = 4, labels = [\"D\", \"C\", \"B\", \"A\"])"
   ]
  },
  {
   "cell_type": "code",
   "execution_count": 51,
   "id": "e4031ba0",
   "metadata": {},
   "outputs": [],
   "source": [
    "agg_df[\"SEGMENT\"] = pd.qcut(agg_df[\"PRICE\"], q = 4, labels = [\"D\", \"C\", \"B\", \"A\"])"
   ]
  },
  {
   "cell_type": "code",
   "execution_count": 52,
   "id": "3e8d876c",
   "metadata": {},
   "outputs": [
    {
     "data": {
      "text/html": [
       "<div>\n",
       "<style scoped>\n",
       "    .dataframe tbody tr th:only-of-type {\n",
       "        vertical-align: middle;\n",
       "    }\n",
       "\n",
       "    .dataframe tbody tr th {\n",
       "        vertical-align: top;\n",
       "    }\n",
       "\n",
       "    .dataframe thead th {\n",
       "        text-align: right;\n",
       "    }\n",
       "</style>\n",
       "<table border=\"1\" class=\"dataframe\">\n",
       "  <thead>\n",
       "    <tr style=\"text-align: right;\">\n",
       "      <th></th>\n",
       "      <th>CUSTOMER_LEVEL_BASED</th>\n",
       "      <th>PRICE</th>\n",
       "      <th>SEGMENT</th>\n",
       "    </tr>\n",
       "  </thead>\n",
       "  <tbody>\n",
       "    <tr>\n",
       "      <th>0</th>\n",
       "      <td>BRA_ANDROID_FEMALE_0_18</td>\n",
       "      <td>35.645303</td>\n",
       "      <td>B</td>\n",
       "    </tr>\n",
       "    <tr>\n",
       "      <th>1</th>\n",
       "      <td>BRA_ANDROID_FEMALE_19_23</td>\n",
       "      <td>34.077340</td>\n",
       "      <td>C</td>\n",
       "    </tr>\n",
       "    <tr>\n",
       "      <th>2</th>\n",
       "      <td>BRA_ANDROID_FEMALE_24_30</td>\n",
       "      <td>33.863946</td>\n",
       "      <td>C</td>\n",
       "    </tr>\n",
       "    <tr>\n",
       "      <th>3</th>\n",
       "      <td>BRA_ANDROID_FEMALE_31_40</td>\n",
       "      <td>34.898326</td>\n",
       "      <td>B</td>\n",
       "    </tr>\n",
       "    <tr>\n",
       "      <th>4</th>\n",
       "      <td>BRA_ANDROID_FEMALE_41_66</td>\n",
       "      <td>36.737179</td>\n",
       "      <td>A</td>\n",
       "    </tr>\n",
       "  </tbody>\n",
       "</table>\n",
       "</div>"
      ],
      "text/plain": [
       "       CUSTOMER_LEVEL_BASED      PRICE SEGMENT\n",
       "0   BRA_ANDROID_FEMALE_0_18  35.645303       B\n",
       "1  BRA_ANDROID_FEMALE_19_23  34.077340       C\n",
       "2  BRA_ANDROID_FEMALE_24_30  33.863946       C\n",
       "3  BRA_ANDROID_FEMALE_31_40  34.898326       B\n",
       "4  BRA_ANDROID_FEMALE_41_66  36.737179       A"
      ]
     },
     "execution_count": 52,
     "metadata": {},
     "output_type": "execute_result"
    }
   ],
   "source": [
    "agg_df.head()"
   ]
  },
  {
   "cell_type": "code",
   "execution_count": 53,
   "id": "561c52ee",
   "metadata": {},
   "outputs": [
    {
     "data": {
      "text/html": [
       "<div>\n",
       "<style scoped>\n",
       "    .dataframe tbody tr th:only-of-type {\n",
       "        vertical-align: middle;\n",
       "    }\n",
       "\n",
       "    .dataframe tbody tr th {\n",
       "        vertical-align: top;\n",
       "    }\n",
       "\n",
       "    .dataframe thead th {\n",
       "        text-align: right;\n",
       "    }\n",
       "</style>\n",
       "<table border=\"1\" class=\"dataframe\">\n",
       "  <thead>\n",
       "    <tr style=\"text-align: right;\">\n",
       "      <th></th>\n",
       "      <th>PRICE</th>\n",
       "    </tr>\n",
       "    <tr>\n",
       "      <th>SEGMENT</th>\n",
       "      <th></th>\n",
       "    </tr>\n",
       "  </thead>\n",
       "  <tbody>\n",
       "    <tr>\n",
       "      <th>D</th>\n",
       "      <td>29.206780</td>\n",
       "    </tr>\n",
       "    <tr>\n",
       "      <th>C</th>\n",
       "      <td>33.509674</td>\n",
       "    </tr>\n",
       "    <tr>\n",
       "      <th>B</th>\n",
       "      <td>34.999645</td>\n",
       "    </tr>\n",
       "    <tr>\n",
       "      <th>A</th>\n",
       "      <td>38.691234</td>\n",
       "    </tr>\n",
       "  </tbody>\n",
       "</table>\n",
       "</div>"
      ],
      "text/plain": [
       "             PRICE\n",
       "SEGMENT           \n",
       "D        29.206780\n",
       "C        33.509674\n",
       "B        34.999645\n",
       "A        38.691234"
      ]
     },
     "execution_count": 53,
     "metadata": {},
     "output_type": "execute_result"
    }
   ],
   "source": [
    "agg_df.groupby(\"SEGMENT\").agg({\"PRICE\": \"mean\"})"
   ]
  },
  {
   "cell_type": "code",
   "execution_count": 54,
   "id": "b4479b13",
   "metadata": {},
   "outputs": [
    {
     "data": {
      "text/html": [
       "<div>\n",
       "<style scoped>\n",
       "    .dataframe tbody tr th:only-of-type {\n",
       "        vertical-align: middle;\n",
       "    }\n",
       "\n",
       "    .dataframe tbody tr th {\n",
       "        vertical-align: top;\n",
       "    }\n",
       "\n",
       "    .dataframe thead tr th {\n",
       "        text-align: left;\n",
       "    }\n",
       "\n",
       "    .dataframe thead tr:last-of-type th {\n",
       "        text-align: right;\n",
       "    }\n",
       "</style>\n",
       "<table border=\"1\" class=\"dataframe\">\n",
       "  <thead>\n",
       "    <tr>\n",
       "      <th></th>\n",
       "      <th colspan=\"4\" halign=\"left\">PRICE</th>\n",
       "    </tr>\n",
       "    <tr>\n",
       "      <th></th>\n",
       "      <th>mean</th>\n",
       "      <th>sum</th>\n",
       "      <th>min</th>\n",
       "      <th>max</th>\n",
       "    </tr>\n",
       "    <tr>\n",
       "      <th>SEGMENT</th>\n",
       "      <th></th>\n",
       "      <th></th>\n",
       "      <th></th>\n",
       "      <th></th>\n",
       "    </tr>\n",
       "  </thead>\n",
       "  <tbody>\n",
       "    <tr>\n",
       "      <th>D</th>\n",
       "      <td>29.206780</td>\n",
       "      <td>817.789833</td>\n",
       "      <td>19.000000</td>\n",
       "      <td>32.333333</td>\n",
       "    </tr>\n",
       "    <tr>\n",
       "      <th>C</th>\n",
       "      <td>33.509674</td>\n",
       "      <td>904.761209</td>\n",
       "      <td>32.500000</td>\n",
       "      <td>34.077340</td>\n",
       "    </tr>\n",
       "    <tr>\n",
       "      <th>B</th>\n",
       "      <td>34.999645</td>\n",
       "      <td>944.990411</td>\n",
       "      <td>34.103727</td>\n",
       "      <td>36.000000</td>\n",
       "    </tr>\n",
       "    <tr>\n",
       "      <th>A</th>\n",
       "      <td>38.691234</td>\n",
       "      <td>1044.663328</td>\n",
       "      <td>36.060606</td>\n",
       "      <td>45.428571</td>\n",
       "    </tr>\n",
       "  </tbody>\n",
       "</table>\n",
       "</div>"
      ],
      "text/plain": [
       "             PRICE                                   \n",
       "              mean          sum        min        max\n",
       "SEGMENT                                              \n",
       "D        29.206780   817.789833  19.000000  32.333333\n",
       "C        33.509674   904.761209  32.500000  34.077340\n",
       "B        34.999645   944.990411  34.103727  36.000000\n",
       "A        38.691234  1044.663328  36.060606  45.428571"
      ]
     },
     "execution_count": 54,
     "metadata": {},
     "output_type": "execute_result"
    }
   ],
   "source": [
    "agg_df.groupby(\"SEGMENT\").agg({\"PRICE\": [\"mean\",\"sum\",\"min\",\"max\"]})"
   ]
  },
  {
   "cell_type": "code",
   "execution_count": 55,
   "id": "b82dd433",
   "metadata": {},
   "outputs": [
    {
     "data": {
      "text/plain": [
       "(109, 3)"
      ]
     },
     "execution_count": 55,
     "metadata": {},
     "output_type": "execute_result"
    }
   ],
   "source": [
    "agg_df.shape"
   ]
  },
  {
   "cell_type": "markdown",
   "id": "8a80a20f",
   "metadata": {},
   "source": [
    "## Now we have segments and we have its infos.\n",
    "- Lets try it out for some example scenarios"
   ]
  },
  {
   "cell_type": "markdown",
   "id": "7558f8ac",
   "metadata": {},
   "source": [
    "**- To which segment does a 33-year-old Turkish woman using ANDROID belong?**\n",
    "- How much income is she expected to earn on average?"
   ]
  },
  {
   "cell_type": "code",
   "execution_count": 56,
   "id": "84a77935",
   "metadata": {},
   "outputs": [],
   "source": [
    "new_user = \"TUR_ANDROID_FEMALE_31_40\""
   ]
  },
  {
   "cell_type": "code",
   "execution_count": 58,
   "id": "4e801286",
   "metadata": {},
   "outputs": [
    {
     "data": {
      "text/html": [
       "<div>\n",
       "<style scoped>\n",
       "    .dataframe tbody tr th:only-of-type {\n",
       "        vertical-align: middle;\n",
       "    }\n",
       "\n",
       "    .dataframe tbody tr th {\n",
       "        vertical-align: top;\n",
       "    }\n",
       "\n",
       "    .dataframe thead th {\n",
       "        text-align: right;\n",
       "    }\n",
       "</style>\n",
       "<table border=\"1\" class=\"dataframe\">\n",
       "  <thead>\n",
       "    <tr style=\"text-align: right;\">\n",
       "      <th></th>\n",
       "      <th>CUSTOMER_LEVEL_BASED</th>\n",
       "      <th>PRICE</th>\n",
       "      <th>SEGMENT</th>\n",
       "    </tr>\n",
       "  </thead>\n",
       "  <tbody>\n",
       "    <tr>\n",
       "      <th>72</th>\n",
       "      <td>TUR_ANDROID_FEMALE_31_40</td>\n",
       "      <td>41.833333</td>\n",
       "      <td>A</td>\n",
       "    </tr>\n",
       "  </tbody>\n",
       "</table>\n",
       "</div>"
      ],
      "text/plain": [
       "        CUSTOMER_LEVEL_BASED      PRICE SEGMENT\n",
       "72  TUR_ANDROID_FEMALE_31_40  41.833333       A"
      ]
     },
     "execution_count": 58,
     "metadata": {},
     "output_type": "execute_result"
    }
   ],
   "source": [
    "agg_df[agg_df['CUSTOMER_LEVEL_BASED'] == new_user]"
   ]
  },
  {
   "cell_type": "markdown",
   "id": "c95ed579",
   "metadata": {},
   "source": [
    "## This user is top segment, which is A. \n"
   ]
  },
  {
   "cell_type": "markdown",
   "id": "b217a250",
   "metadata": {},
   "source": [
    "**- To which segment does a 35-year-old French woman using IOS belong?**\n",
    "- How much income is she expected to earn on average?"
   ]
  },
  {
   "cell_type": "code",
   "execution_count": 59,
   "id": "8ac19770",
   "metadata": {},
   "outputs": [],
   "source": [
    "new_user1 = \"FRA_IOS_FEMALE_31_40\""
   ]
  },
  {
   "cell_type": "code",
   "execution_count": 60,
   "id": "b1d6f7fb",
   "metadata": {},
   "outputs": [
    {
     "data": {
      "text/html": [
       "<div>\n",
       "<style scoped>\n",
       "    .dataframe tbody tr th:only-of-type {\n",
       "        vertical-align: middle;\n",
       "    }\n",
       "\n",
       "    .dataframe tbody tr th {\n",
       "        vertical-align: top;\n",
       "    }\n",
       "\n",
       "    .dataframe thead th {\n",
       "        text-align: right;\n",
       "    }\n",
       "</style>\n",
       "<table border=\"1\" class=\"dataframe\">\n",
       "  <thead>\n",
       "    <tr style=\"text-align: right;\">\n",
       "      <th></th>\n",
       "      <th>CUSTOMER_LEVEL_BASED</th>\n",
       "      <th>PRICE</th>\n",
       "      <th>SEGMENT</th>\n",
       "    </tr>\n",
       "  </thead>\n",
       "  <tbody>\n",
       "    <tr>\n",
       "      <th>63</th>\n",
       "      <td>FRA_IOS_FEMALE_31_40</td>\n",
       "      <td>32.818182</td>\n",
       "      <td>C</td>\n",
       "    </tr>\n",
       "  </tbody>\n",
       "</table>\n",
       "</div>"
      ],
      "text/plain": [
       "    CUSTOMER_LEVEL_BASED      PRICE SEGMENT\n",
       "63  FRA_IOS_FEMALE_31_40  32.818182       C"
      ]
     },
     "execution_count": 60,
     "metadata": {},
     "output_type": "execute_result"
    }
   ],
   "source": [
    "agg_df[agg_df[\"CUSTOMER_LEVEL_BASED\"] == new_user1]"
   ]
  },
  {
   "cell_type": "markdown",
   "id": "edf4b7e2",
   "metadata": {},
   "source": [
    "## This user is average segment, which is C."
   ]
  }
 ],
 "metadata": {
  "kernelspec": {
   "display_name": "Python 3 (ipykernel)",
   "language": "python",
   "name": "python3"
  },
  "language_info": {
   "codemirror_mode": {
    "name": "ipython",
    "version": 3
   },
   "file_extension": ".py",
   "mimetype": "text/x-python",
   "name": "python",
   "nbconvert_exporter": "python",
   "pygments_lexer": "ipython3",
   "version": "3.10.9"
  }
 },
 "nbformat": 4,
 "nbformat_minor": 5
}
